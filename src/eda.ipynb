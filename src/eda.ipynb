{
 "cells": [
  {
   "cell_type": "markdown",
   "id": "7a495fa9",
   "metadata": {},
   "source": [
    "# N.Rich Test Assignment EDA"
   ]
  },
  {
   "cell_type": "markdown",
   "id": "72b0104c",
   "metadata": {},
   "source": [
    "I adopted some code from this repo: https://github.com/Reslan-Tinawi/20-newsgroups-Text-Classification"
   ]
  },
  {
   "cell_type": "code",
   "execution_count": 11,
   "id": "f089b274",
   "metadata": {},
   "outputs": [],
   "source": [
    "import pandas as pd\n",
    "import numpy as np\n",
    "\n",
    "# data visualization\n",
    "import seaborn as sns\n",
    "\n",
    "import matplotlib.pyplot as plt\n",
    "\n",
    "import plotly\n",
    "import plotly.express as px\n",
    "import plotly.graph_objects as go\n",
    "from plotly.subplots import make_subplots\n",
    "import plotly.figure_factory as ff\n",
    "\n",
    "sns.set()"
   ]
  },
  {
   "cell_type": "markdown",
   "id": "b6a8d08e",
   "metadata": {},
   "source": [
    "## Helper functions"
   ]
  },
  {
   "cell_type": "markdown",
   "id": "0ec39db0",
   "metadata": {},
   "source": [
    "### Color palette generator\n",
    "\n",
    "This function is used to create a palette of n colors of palette_name colors."
   ]
  },
  {
   "cell_type": "code",
   "execution_count": 59,
   "id": "7c803665",
   "metadata": {},
   "outputs": [],
   "source": [
    "def get_n_color_palette(palette_name, n_colors, as_hex=False):\n",
    "    palette = sns.color_palette(palette=palette_name, n_colors=n_colors)\n",
    "    if as_hex:\n",
    "        palette = palette.as_hex()\n",
    "    palette.reverse()\n",
    "    return palette\n",
    "\n",
    "palette = get_n_color_palette(\"flare\", 20, True)"
   ]
  },
  {
   "cell_type": "markdown",
   "id": "e4ade605",
   "metadata": {},
   "source": [
    "## Data Statistics"
   ]
  },
  {
   "cell_type": "code",
   "execution_count": 13,
   "id": "6244c75e",
   "metadata": {},
   "outputs": [
    {
     "data": {
      "text/html": [
       "<div>\n",
       "<style scoped>\n",
       "    .dataframe tbody tr th:only-of-type {\n",
       "        vertical-align: middle;\n",
       "    }\n",
       "\n",
       "    .dataframe tbody tr th {\n",
       "        vertical-align: top;\n",
       "    }\n",
       "\n",
       "    .dataframe thead th {\n",
       "        text-align: right;\n",
       "    }\n",
       "</style>\n",
       "<table border=\"1\" class=\"dataframe\">\n",
       "  <thead>\n",
       "    <tr style=\"text-align: right;\">\n",
       "      <th></th>\n",
       "      <th>Title</th>\n",
       "      <th>Code</th>\n",
       "    </tr>\n",
       "  </thead>\n",
       "  <tbody>\n",
       "    <tr>\n",
       "      <th>0</th>\n",
       "      <td>senior program analyst navy strike fighter sen...</td>\n",
       "      <td>15-1121.00</td>\n",
       "    </tr>\n",
       "    <tr>\n",
       "      <th>1</th>\n",
       "      <td>senior intelligence analyst iii job</td>\n",
       "      <td>33-3021.06</td>\n",
       "    </tr>\n",
       "    <tr>\n",
       "      <th>2</th>\n",
       "      <td>retail wireless sales consultant part</td>\n",
       "      <td>41-2031.00</td>\n",
       "    </tr>\n",
       "    <tr>\n",
       "      <th>3</th>\n",
       "      <td>test automation engineer w selenium and gerkin...</td>\n",
       "      <td>15-1121.00</td>\n",
       "    </tr>\n",
       "    <tr>\n",
       "      <th>4</th>\n",
       "      <td>public sector portfolio management senior asso...</td>\n",
       "      <td>11-1021.00</td>\n",
       "    </tr>\n",
       "  </tbody>\n",
       "</table>\n",
       "</div>"
      ],
      "text/plain": [
       "                                               Title        Code\n",
       "0  senior program analyst navy strike fighter sen...  15-1121.00\n",
       "1                senior intelligence analyst iii job  33-3021.06\n",
       "2              retail wireless sales consultant part  41-2031.00\n",
       "3  test automation engineer w selenium and gerkin...  15-1121.00\n",
       "4  public sector portfolio management senior asso...  11-1021.00"
      ]
     },
     "execution_count": 13,
     "metadata": {},
     "output_type": "execute_result"
    }
   ],
   "source": [
    "df_train = pd.read_csv('../data/train_df.csv')\n",
    "df_train.head()"
   ]
  },
  {
   "cell_type": "code",
   "execution_count": 18,
   "id": "bbd254eb",
   "metadata": {},
   "outputs": [
    {
     "data": {
      "text/html": [
       "<div>\n",
       "<style scoped>\n",
       "    .dataframe tbody tr th:only-of-type {\n",
       "        vertical-align: middle;\n",
       "    }\n",
       "\n",
       "    .dataframe tbody tr th {\n",
       "        vertical-align: top;\n",
       "    }\n",
       "\n",
       "    .dataframe thead th {\n",
       "        text-align: right;\n",
       "    }\n",
       "</style>\n",
       "<table border=\"1\" class=\"dataframe\">\n",
       "  <thead>\n",
       "    <tr style=\"text-align: right;\">\n",
       "      <th></th>\n",
       "      <th>Code</th>\n",
       "      <th>count</th>\n",
       "      <th>mean_length</th>\n",
       "      <th>max_length</th>\n",
       "      <th>min_length</th>\n",
       "    </tr>\n",
       "  </thead>\n",
       "  <tbody>\n",
       "    <tr>\n",
       "      <th>13</th>\n",
       "      <td>29-1141.00</td>\n",
       "      <td>1186</td>\n",
       "      <td>32.771501</td>\n",
       "      <td>150</td>\n",
       "      <td>4</td>\n",
       "    </tr>\n",
       "    <tr>\n",
       "      <th>11</th>\n",
       "      <td>15-1142.00</td>\n",
       "      <td>1082</td>\n",
       "      <td>33.000000</td>\n",
       "      <td>99</td>\n",
       "      <td>7</td>\n",
       "    </tr>\n",
       "    <tr>\n",
       "      <th>8</th>\n",
       "      <td>15-1132.00</td>\n",
       "      <td>1080</td>\n",
       "      <td>32.920370</td>\n",
       "      <td>88</td>\n",
       "      <td>8</td>\n",
       "    </tr>\n",
       "    <tr>\n",
       "      <th>7</th>\n",
       "      <td>15-1122.00</td>\n",
       "      <td>1051</td>\n",
       "      <td>35.229305</td>\n",
       "      <td>107</td>\n",
       "      <td>10</td>\n",
       "    </tr>\n",
       "    <tr>\n",
       "      <th>9</th>\n",
       "      <td>15-1133.00</td>\n",
       "      <td>985</td>\n",
       "      <td>33.659898</td>\n",
       "      <td>209</td>\n",
       "      <td>7</td>\n",
       "    </tr>\n",
       "    <tr>\n",
       "      <th>1</th>\n",
       "      <td>11-2021.00</td>\n",
       "      <td>778</td>\n",
       "      <td>35.429306</td>\n",
       "      <td>119</td>\n",
       "      <td>4</td>\n",
       "    </tr>\n",
       "    <tr>\n",
       "      <th>4</th>\n",
       "      <td>13-1111.00</td>\n",
       "      <td>690</td>\n",
       "      <td>34.813043</td>\n",
       "      <td>102</td>\n",
       "      <td>7</td>\n",
       "    </tr>\n",
       "    <tr>\n",
       "      <th>15</th>\n",
       "      <td>33-3021.06</td>\n",
       "      <td>590</td>\n",
       "      <td>32.949153</td>\n",
       "      <td>90</td>\n",
       "      <td>9</td>\n",
       "    </tr>\n",
       "    <tr>\n",
       "      <th>0</th>\n",
       "      <td>11-1021.00</td>\n",
       "      <td>589</td>\n",
       "      <td>31.424448</td>\n",
       "      <td>105</td>\n",
       "      <td>6</td>\n",
       "    </tr>\n",
       "    <tr>\n",
       "      <th>2</th>\n",
       "      <td>11-2022.00</td>\n",
       "      <td>477</td>\n",
       "      <td>34.670860</td>\n",
       "      <td>96</td>\n",
       "      <td>8</td>\n",
       "    </tr>\n",
       "    <tr>\n",
       "      <th>6</th>\n",
       "      <td>15-1121.00</td>\n",
       "      <td>438</td>\n",
       "      <td>34.611872</td>\n",
       "      <td>79</td>\n",
       "      <td>7</td>\n",
       "    </tr>\n",
       "    <tr>\n",
       "      <th>16</th>\n",
       "      <td>41-2031.00</td>\n",
       "      <td>434</td>\n",
       "      <td>33.944700</td>\n",
       "      <td>98</td>\n",
       "      <td>8</td>\n",
       "    </tr>\n",
       "    <tr>\n",
       "      <th>3</th>\n",
       "      <td>11-3031.02</td>\n",
       "      <td>432</td>\n",
       "      <td>34.752315</td>\n",
       "      <td>86</td>\n",
       "      <td>8</td>\n",
       "    </tr>\n",
       "    <tr>\n",
       "      <th>17</th>\n",
       "      <td>43-4051.00</td>\n",
       "      <td>371</td>\n",
       "      <td>32.681941</td>\n",
       "      <td>88</td>\n",
       "      <td>4</td>\n",
       "    </tr>\n",
       "    <tr>\n",
       "      <th>12</th>\n",
       "      <td>15-1151.00</td>\n",
       "      <td>355</td>\n",
       "      <td>34.433803</td>\n",
       "      <td>84</td>\n",
       "      <td>6</td>\n",
       "    </tr>\n",
       "    <tr>\n",
       "      <th>19</th>\n",
       "      <td>49-9071.00</td>\n",
       "      <td>314</td>\n",
       "      <td>32.977707</td>\n",
       "      <td>86</td>\n",
       "      <td>6</td>\n",
       "    </tr>\n",
       "    <tr>\n",
       "      <th>5</th>\n",
       "      <td>13-2051.00</td>\n",
       "      <td>287</td>\n",
       "      <td>32.665505</td>\n",
       "      <td>109</td>\n",
       "      <td>6</td>\n",
       "    </tr>\n",
       "    <tr>\n",
       "      <th>14</th>\n",
       "      <td>31-1014.00</td>\n",
       "      <td>283</td>\n",
       "      <td>33.512367</td>\n",
       "      <td>72</td>\n",
       "      <td>10</td>\n",
       "    </tr>\n",
       "    <tr>\n",
       "      <th>20</th>\n",
       "      <td>53-3032.00</td>\n",
       "      <td>248</td>\n",
       "      <td>34.028226</td>\n",
       "      <td>101</td>\n",
       "      <td>8</td>\n",
       "    </tr>\n",
       "    <tr>\n",
       "      <th>18</th>\n",
       "      <td>49-3023.02</td>\n",
       "      <td>232</td>\n",
       "      <td>34.715517</td>\n",
       "      <td>174</td>\n",
       "      <td>9</td>\n",
       "    </tr>\n",
       "    <tr>\n",
       "      <th>10</th>\n",
       "      <td>15-1134.00</td>\n",
       "      <td>196</td>\n",
       "      <td>31.918367</td>\n",
       "      <td>66</td>\n",
       "      <td>11</td>\n",
       "    </tr>\n",
       "  </tbody>\n",
       "</table>\n",
       "</div>"
      ],
      "text/plain": [
       "          Code  count  mean_length  max_length  min_length\n",
       "13  29-1141.00   1186    32.771501         150           4\n",
       "11  15-1142.00   1082    33.000000          99           7\n",
       "8   15-1132.00   1080    32.920370          88           8\n",
       "7   15-1122.00   1051    35.229305         107          10\n",
       "9   15-1133.00    985    33.659898         209           7\n",
       "1   11-2021.00    778    35.429306         119           4\n",
       "4   13-1111.00    690    34.813043         102           7\n",
       "15  33-3021.06    590    32.949153          90           9\n",
       "0   11-1021.00    589    31.424448         105           6\n",
       "2   11-2022.00    477    34.670860          96           8\n",
       "6   15-1121.00    438    34.611872          79           7\n",
       "16  41-2031.00    434    33.944700          98           8\n",
       "3   11-3031.02    432    34.752315          86           8\n",
       "17  43-4051.00    371    32.681941          88           4\n",
       "12  15-1151.00    355    34.433803          84           6\n",
       "19  49-9071.00    314    32.977707          86           6\n",
       "5   13-2051.00    287    32.665505         109           6\n",
       "14  31-1014.00    283    33.512367          72          10\n",
       "20  53-3032.00    248    34.028226         101           8\n",
       "18  49-3023.02    232    34.715517         174           9\n",
       "10  15-1134.00    196    31.918367          66          11"
      ]
     },
     "execution_count": 18,
     "metadata": {},
     "output_type": "execute_result"
    }
   ],
   "source": [
    "codes_statistics_df = (\n",
    "    df_train.groupby(by=\"Code\")[\"Title\"]\n",
    "    .agg(\n",
    "        [\n",
    "            (\"count\", lambda x: x.size),\n",
    "            (\"mean_length\", lambda x: x.str.len().mean()),\n",
    "            (\"max_length\", lambda x: x.str.len().max()),\n",
    "            (\"min_length\", lambda x: x.str.len().min()),\n",
    "        ]\n",
    "    )\n",
    "    .reset_index()\n",
    "    .sort_values(by=\"count\", ascending=False)\n",
    ")\n",
    "codes_statistics_df"
   ]
  },
  {
   "cell_type": "markdown",
   "id": "02e35830",
   "metadata": {},
   "source": [
    "Textual descriptions are rather short, but more or less comparable in length. However, the class imbalance is noticeable, with the largest class having almost 6 times more entries than the smallest one."
   ]
  },
  {
   "cell_type": "markdown",
   "id": "9826d213",
   "metadata": {},
   "source": [
    "### Counts per code\n",
    "\n",
    "Use a pie chart to display the percentages of entries for each code:"
   ]
  },
  {
   "cell_type": "code",
   "execution_count": 64,
   "id": "660e1e80",
   "metadata": {},
   "outputs": [
    {
     "data": {
      "application/vnd.plotly.v1+json": {
       "config": {
        "plotlyServerURL": "https://plot.ly"
       },
       "data": [
        {
         "domain": {
          "x": [
           0,
           1
          ],
          "y": [
           0,
           1
          ]
         },
         "hovertemplate": "Code=%{label}<br>count=%{value}<extra></extra>",
         "labels": [
          "29-1141.00",
          "15-1142.00",
          "15-1132.00",
          "15-1122.00",
          "15-1133.00",
          "11-2021.00",
          "13-1111.00",
          "33-3021.06",
          "11-1021.00",
          "11-2022.00",
          "15-1121.00",
          "41-2031.00",
          "11-3031.02",
          "43-4051.00",
          "15-1151.00",
          "49-9071.00",
          "13-2051.00",
          "31-1014.00",
          "53-3032.00",
          "49-3023.02",
          "15-1134.00"
         ],
         "legendgroup": "",
         "name": "",
         "showlegend": true,
         "type": "pie",
         "values": [
          1186,
          1082,
          1080,
          1051,
          985,
          778,
          690,
          590,
          589,
          477,
          438,
          434,
          432,
          371,
          355,
          314,
          287,
          283,
          248,
          232,
          196
         ]
        }
       ],
       "layout": {
        "font": {
         "family": "Courier New, monospace",
         "size": 14
        },
        "height": 500,
        "legend": {
         "tracegroupgap": 0
        },
        "paper_bgcolor": "rgba(0, 0, 0, 0)",
        "piecolorway": [
         "#562666",
         "#612969",
         "#6c2b6d",
         "#772d6f",
         "#833070",
         "#8f3371",
         "#9a3670",
         "#a5396e",
         "#b13c6c",
         "#bc3f69",
         "#c84365",
         "#d14a61",
         "#d9525e",
         "#de5d5c",
         "#e3685c",
         "#e67560",
         "#e88165",
         "#e98d6b",
         "#eb9972",
         "#eca479"
        ],
        "plot_bgcolor": "rgba(0, 0, 0, 0)",
        "template": {
         "data": {
          "bar": [
           {
            "error_x": {
             "color": "#2a3f5f"
            },
            "error_y": {
             "color": "#2a3f5f"
            },
            "marker": {
             "line": {
              "color": "#E5ECF6",
              "width": 0.5
             },
             "pattern": {
              "fillmode": "overlay",
              "size": 10,
              "solidity": 0.2
             }
            },
            "type": "bar"
           }
          ],
          "barpolar": [
           {
            "marker": {
             "line": {
              "color": "#E5ECF6",
              "width": 0.5
             },
             "pattern": {
              "fillmode": "overlay",
              "size": 10,
              "solidity": 0.2
             }
            },
            "type": "barpolar"
           }
          ],
          "carpet": [
           {
            "aaxis": {
             "endlinecolor": "#2a3f5f",
             "gridcolor": "white",
             "linecolor": "white",
             "minorgridcolor": "white",
             "startlinecolor": "#2a3f5f"
            },
            "baxis": {
             "endlinecolor": "#2a3f5f",
             "gridcolor": "white",
             "linecolor": "white",
             "minorgridcolor": "white",
             "startlinecolor": "#2a3f5f"
            },
            "type": "carpet"
           }
          ],
          "choropleth": [
           {
            "colorbar": {
             "outlinewidth": 0,
             "ticks": ""
            },
            "type": "choropleth"
           }
          ],
          "contour": [
           {
            "colorbar": {
             "outlinewidth": 0,
             "ticks": ""
            },
            "colorscale": [
             [
              0,
              "#0d0887"
             ],
             [
              0.1111111111111111,
              "#46039f"
             ],
             [
              0.2222222222222222,
              "#7201a8"
             ],
             [
              0.3333333333333333,
              "#9c179e"
             ],
             [
              0.4444444444444444,
              "#bd3786"
             ],
             [
              0.5555555555555556,
              "#d8576b"
             ],
             [
              0.6666666666666666,
              "#ed7953"
             ],
             [
              0.7777777777777778,
              "#fb9f3a"
             ],
             [
              0.8888888888888888,
              "#fdca26"
             ],
             [
              1,
              "#f0f921"
             ]
            ],
            "type": "contour"
           }
          ],
          "contourcarpet": [
           {
            "colorbar": {
             "outlinewidth": 0,
             "ticks": ""
            },
            "type": "contourcarpet"
           }
          ],
          "heatmap": [
           {
            "colorbar": {
             "outlinewidth": 0,
             "ticks": ""
            },
            "colorscale": [
             [
              0,
              "#0d0887"
             ],
             [
              0.1111111111111111,
              "#46039f"
             ],
             [
              0.2222222222222222,
              "#7201a8"
             ],
             [
              0.3333333333333333,
              "#9c179e"
             ],
             [
              0.4444444444444444,
              "#bd3786"
             ],
             [
              0.5555555555555556,
              "#d8576b"
             ],
             [
              0.6666666666666666,
              "#ed7953"
             ],
             [
              0.7777777777777778,
              "#fb9f3a"
             ],
             [
              0.8888888888888888,
              "#fdca26"
             ],
             [
              1,
              "#f0f921"
             ]
            ],
            "type": "heatmap"
           }
          ],
          "heatmapgl": [
           {
            "colorbar": {
             "outlinewidth": 0,
             "ticks": ""
            },
            "colorscale": [
             [
              0,
              "#0d0887"
             ],
             [
              0.1111111111111111,
              "#46039f"
             ],
             [
              0.2222222222222222,
              "#7201a8"
             ],
             [
              0.3333333333333333,
              "#9c179e"
             ],
             [
              0.4444444444444444,
              "#bd3786"
             ],
             [
              0.5555555555555556,
              "#d8576b"
             ],
             [
              0.6666666666666666,
              "#ed7953"
             ],
             [
              0.7777777777777778,
              "#fb9f3a"
             ],
             [
              0.8888888888888888,
              "#fdca26"
             ],
             [
              1,
              "#f0f921"
             ]
            ],
            "type": "heatmapgl"
           }
          ],
          "histogram": [
           {
            "marker": {
             "pattern": {
              "fillmode": "overlay",
              "size": 10,
              "solidity": 0.2
             }
            },
            "type": "histogram"
           }
          ],
          "histogram2d": [
           {
            "colorbar": {
             "outlinewidth": 0,
             "ticks": ""
            },
            "colorscale": [
             [
              0,
              "#0d0887"
             ],
             [
              0.1111111111111111,
              "#46039f"
             ],
             [
              0.2222222222222222,
              "#7201a8"
             ],
             [
              0.3333333333333333,
              "#9c179e"
             ],
             [
              0.4444444444444444,
              "#bd3786"
             ],
             [
              0.5555555555555556,
              "#d8576b"
             ],
             [
              0.6666666666666666,
              "#ed7953"
             ],
             [
              0.7777777777777778,
              "#fb9f3a"
             ],
             [
              0.8888888888888888,
              "#fdca26"
             ],
             [
              1,
              "#f0f921"
             ]
            ],
            "type": "histogram2d"
           }
          ],
          "histogram2dcontour": [
           {
            "colorbar": {
             "outlinewidth": 0,
             "ticks": ""
            },
            "colorscale": [
             [
              0,
              "#0d0887"
             ],
             [
              0.1111111111111111,
              "#46039f"
             ],
             [
              0.2222222222222222,
              "#7201a8"
             ],
             [
              0.3333333333333333,
              "#9c179e"
             ],
             [
              0.4444444444444444,
              "#bd3786"
             ],
             [
              0.5555555555555556,
              "#d8576b"
             ],
             [
              0.6666666666666666,
              "#ed7953"
             ],
             [
              0.7777777777777778,
              "#fb9f3a"
             ],
             [
              0.8888888888888888,
              "#fdca26"
             ],
             [
              1,
              "#f0f921"
             ]
            ],
            "type": "histogram2dcontour"
           }
          ],
          "mesh3d": [
           {
            "colorbar": {
             "outlinewidth": 0,
             "ticks": ""
            },
            "type": "mesh3d"
           }
          ],
          "parcoords": [
           {
            "line": {
             "colorbar": {
              "outlinewidth": 0,
              "ticks": ""
             }
            },
            "type": "parcoords"
           }
          ],
          "pie": [
           {
            "automargin": true,
            "type": "pie"
           }
          ],
          "scatter": [
           {
            "fillpattern": {
             "fillmode": "overlay",
             "size": 10,
             "solidity": 0.2
            },
            "type": "scatter"
           }
          ],
          "scatter3d": [
           {
            "line": {
             "colorbar": {
              "outlinewidth": 0,
              "ticks": ""
             }
            },
            "marker": {
             "colorbar": {
              "outlinewidth": 0,
              "ticks": ""
             }
            },
            "type": "scatter3d"
           }
          ],
          "scattercarpet": [
           {
            "marker": {
             "colorbar": {
              "outlinewidth": 0,
              "ticks": ""
             }
            },
            "type": "scattercarpet"
           }
          ],
          "scattergeo": [
           {
            "marker": {
             "colorbar": {
              "outlinewidth": 0,
              "ticks": ""
             }
            },
            "type": "scattergeo"
           }
          ],
          "scattergl": [
           {
            "marker": {
             "colorbar": {
              "outlinewidth": 0,
              "ticks": ""
             }
            },
            "type": "scattergl"
           }
          ],
          "scattermapbox": [
           {
            "marker": {
             "colorbar": {
              "outlinewidth": 0,
              "ticks": ""
             }
            },
            "type": "scattermapbox"
           }
          ],
          "scatterpolar": [
           {
            "marker": {
             "colorbar": {
              "outlinewidth": 0,
              "ticks": ""
             }
            },
            "type": "scatterpolar"
           }
          ],
          "scatterpolargl": [
           {
            "marker": {
             "colorbar": {
              "outlinewidth": 0,
              "ticks": ""
             }
            },
            "type": "scatterpolargl"
           }
          ],
          "scatterternary": [
           {
            "marker": {
             "colorbar": {
              "outlinewidth": 0,
              "ticks": ""
             }
            },
            "type": "scatterternary"
           }
          ],
          "surface": [
           {
            "colorbar": {
             "outlinewidth": 0,
             "ticks": ""
            },
            "colorscale": [
             [
              0,
              "#0d0887"
             ],
             [
              0.1111111111111111,
              "#46039f"
             ],
             [
              0.2222222222222222,
              "#7201a8"
             ],
             [
              0.3333333333333333,
              "#9c179e"
             ],
             [
              0.4444444444444444,
              "#bd3786"
             ],
             [
              0.5555555555555556,
              "#d8576b"
             ],
             [
              0.6666666666666666,
              "#ed7953"
             ],
             [
              0.7777777777777778,
              "#fb9f3a"
             ],
             [
              0.8888888888888888,
              "#fdca26"
             ],
             [
              1,
              "#f0f921"
             ]
            ],
            "type": "surface"
           }
          ],
          "table": [
           {
            "cells": {
             "fill": {
              "color": "#EBF0F8"
             },
             "line": {
              "color": "white"
             }
            },
            "header": {
             "fill": {
              "color": "#C8D4E3"
             },
             "line": {
              "color": "white"
             }
            },
            "type": "table"
           }
          ]
         },
         "layout": {
          "annotationdefaults": {
           "arrowcolor": "#2a3f5f",
           "arrowhead": 0,
           "arrowwidth": 1
          },
          "autotypenumbers": "strict",
          "coloraxis": {
           "colorbar": {
            "outlinewidth": 0,
            "ticks": ""
           }
          },
          "colorscale": {
           "diverging": [
            [
             0,
             "#8e0152"
            ],
            [
             0.1,
             "#c51b7d"
            ],
            [
             0.2,
             "#de77ae"
            ],
            [
             0.3,
             "#f1b6da"
            ],
            [
             0.4,
             "#fde0ef"
            ],
            [
             0.5,
             "#f7f7f7"
            ],
            [
             0.6,
             "#e6f5d0"
            ],
            [
             0.7,
             "#b8e186"
            ],
            [
             0.8,
             "#7fbc41"
            ],
            [
             0.9,
             "#4d9221"
            ],
            [
             1,
             "#276419"
            ]
           ],
           "sequential": [
            [
             0,
             "#0d0887"
            ],
            [
             0.1111111111111111,
             "#46039f"
            ],
            [
             0.2222222222222222,
             "#7201a8"
            ],
            [
             0.3333333333333333,
             "#9c179e"
            ],
            [
             0.4444444444444444,
             "#bd3786"
            ],
            [
             0.5555555555555556,
             "#d8576b"
            ],
            [
             0.6666666666666666,
             "#ed7953"
            ],
            [
             0.7777777777777778,
             "#fb9f3a"
            ],
            [
             0.8888888888888888,
             "#fdca26"
            ],
            [
             1,
             "#f0f921"
            ]
           ],
           "sequentialminus": [
            [
             0,
             "#0d0887"
            ],
            [
             0.1111111111111111,
             "#46039f"
            ],
            [
             0.2222222222222222,
             "#7201a8"
            ],
            [
             0.3333333333333333,
             "#9c179e"
            ],
            [
             0.4444444444444444,
             "#bd3786"
            ],
            [
             0.5555555555555556,
             "#d8576b"
            ],
            [
             0.6666666666666666,
             "#ed7953"
            ],
            [
             0.7777777777777778,
             "#fb9f3a"
            ],
            [
             0.8888888888888888,
             "#fdca26"
            ],
            [
             1,
             "#f0f921"
            ]
           ]
          },
          "colorway": [
           "#636efa",
           "#EF553B",
           "#00cc96",
           "#ab63fa",
           "#FFA15A",
           "#19d3f3",
           "#FF6692",
           "#B6E880",
           "#FF97FF",
           "#FECB52"
          ],
          "font": {
           "color": "#2a3f5f"
          },
          "geo": {
           "bgcolor": "white",
           "lakecolor": "white",
           "landcolor": "#E5ECF6",
           "showlakes": true,
           "showland": true,
           "subunitcolor": "white"
          },
          "hoverlabel": {
           "align": "left"
          },
          "hovermode": "closest",
          "mapbox": {
           "style": "light"
          },
          "paper_bgcolor": "white",
          "plot_bgcolor": "#E5ECF6",
          "polar": {
           "angularaxis": {
            "gridcolor": "white",
            "linecolor": "white",
            "ticks": ""
           },
           "bgcolor": "#E5ECF6",
           "radialaxis": {
            "gridcolor": "white",
            "linecolor": "white",
            "ticks": ""
           }
          },
          "scene": {
           "xaxis": {
            "backgroundcolor": "#E5ECF6",
            "gridcolor": "white",
            "gridwidth": 2,
            "linecolor": "white",
            "showbackground": true,
            "ticks": "",
            "zerolinecolor": "white"
           },
           "yaxis": {
            "backgroundcolor": "#E5ECF6",
            "gridcolor": "white",
            "gridwidth": 2,
            "linecolor": "white",
            "showbackground": true,
            "ticks": "",
            "zerolinecolor": "white"
           },
           "zaxis": {
            "backgroundcolor": "#E5ECF6",
            "gridcolor": "white",
            "gridwidth": 2,
            "linecolor": "white",
            "showbackground": true,
            "ticks": "",
            "zerolinecolor": "white"
           }
          },
          "shapedefaults": {
           "line": {
            "color": "#2a3f5f"
           }
          },
          "ternary": {
           "aaxis": {
            "gridcolor": "white",
            "linecolor": "white",
            "ticks": ""
           },
           "baxis": {
            "gridcolor": "white",
            "linecolor": "white",
            "ticks": ""
           },
           "bgcolor": "#E5ECF6",
           "caxis": {
            "gridcolor": "white",
            "linecolor": "white",
            "ticks": ""
           }
          },
          "title": {
           "x": 0.05
          },
          "xaxis": {
           "automargin": true,
           "gridcolor": "white",
           "linecolor": "white",
           "ticks": "",
           "title": {
            "standoff": 15
           },
           "zerolinecolor": "white",
           "zerolinewidth": 2
          },
          "yaxis": {
           "automargin": true,
           "gridcolor": "white",
           "linecolor": "white",
           "ticks": "",
           "title": {
            "standoff": 15
           },
           "zerolinecolor": "white",
           "zerolinewidth": 2
          }
         }
        },
        "title": {
         "text": "Code Percentages"
        },
        "width": 800
       }
      },
      "text/html": [
       "<div>                            <div id=\"0c4781af-5326-4b73-9e2c-e4f699212729\" class=\"plotly-graph-div\" style=\"height:500px; width:800px;\"></div>            <script type=\"text/javascript\">                require([\"plotly\"], function(Plotly) {                    window.PLOTLYENV=window.PLOTLYENV || {};                                    if (document.getElementById(\"0c4781af-5326-4b73-9e2c-e4f699212729\")) {                    Plotly.newPlot(                        \"0c4781af-5326-4b73-9e2c-e4f699212729\",                        [{\"domain\":{\"x\":[0.0,1.0],\"y\":[0.0,1.0]},\"hovertemplate\":\"Code=%{label}<br>count=%{value}<extra></extra>\",\"labels\":[\"29-1141.00\",\"15-1142.00\",\"15-1132.00\",\"15-1122.00\",\"15-1133.00\",\"11-2021.00\",\"13-1111.00\",\"33-3021.06\",\"11-1021.00\",\"11-2022.00\",\"15-1121.00\",\"41-2031.00\",\"11-3031.02\",\"43-4051.00\",\"15-1151.00\",\"49-9071.00\",\"13-2051.00\",\"31-1014.00\",\"53-3032.00\",\"49-3023.02\",\"15-1134.00\"],\"legendgroup\":\"\",\"name\":\"\",\"showlegend\":true,\"values\":[1186,1082,1080,1051,985,778,690,590,589,477,438,434,432,371,355,314,287,283,248,232,196],\"type\":\"pie\"}],                        {\"template\":{\"data\":{\"histogram2dcontour\":[{\"type\":\"histogram2dcontour\",\"colorbar\":{\"outlinewidth\":0,\"ticks\":\"\"},\"colorscale\":[[0.0,\"#0d0887\"],[0.1111111111111111,\"#46039f\"],[0.2222222222222222,\"#7201a8\"],[0.3333333333333333,\"#9c179e\"],[0.4444444444444444,\"#bd3786\"],[0.5555555555555556,\"#d8576b\"],[0.6666666666666666,\"#ed7953\"],[0.7777777777777778,\"#fb9f3a\"],[0.8888888888888888,\"#fdca26\"],[1.0,\"#f0f921\"]]}],\"choropleth\":[{\"type\":\"choropleth\",\"colorbar\":{\"outlinewidth\":0,\"ticks\":\"\"}}],\"histogram2d\":[{\"type\":\"histogram2d\",\"colorbar\":{\"outlinewidth\":0,\"ticks\":\"\"},\"colorscale\":[[0.0,\"#0d0887\"],[0.1111111111111111,\"#46039f\"],[0.2222222222222222,\"#7201a8\"],[0.3333333333333333,\"#9c179e\"],[0.4444444444444444,\"#bd3786\"],[0.5555555555555556,\"#d8576b\"],[0.6666666666666666,\"#ed7953\"],[0.7777777777777778,\"#fb9f3a\"],[0.8888888888888888,\"#fdca26\"],[1.0,\"#f0f921\"]]}],\"heatmap\":[{\"type\":\"heatmap\",\"colorbar\":{\"outlinewidth\":0,\"ticks\":\"\"},\"colorscale\":[[0.0,\"#0d0887\"],[0.1111111111111111,\"#46039f\"],[0.2222222222222222,\"#7201a8\"],[0.3333333333333333,\"#9c179e\"],[0.4444444444444444,\"#bd3786\"],[0.5555555555555556,\"#d8576b\"],[0.6666666666666666,\"#ed7953\"],[0.7777777777777778,\"#fb9f3a\"],[0.8888888888888888,\"#fdca26\"],[1.0,\"#f0f921\"]]}],\"heatmapgl\":[{\"type\":\"heatmapgl\",\"colorbar\":{\"outlinewidth\":0,\"ticks\":\"\"},\"colorscale\":[[0.0,\"#0d0887\"],[0.1111111111111111,\"#46039f\"],[0.2222222222222222,\"#7201a8\"],[0.3333333333333333,\"#9c179e\"],[0.4444444444444444,\"#bd3786\"],[0.5555555555555556,\"#d8576b\"],[0.6666666666666666,\"#ed7953\"],[0.7777777777777778,\"#fb9f3a\"],[0.8888888888888888,\"#fdca26\"],[1.0,\"#f0f921\"]]}],\"contourcarpet\":[{\"type\":\"contourcarpet\",\"colorbar\":{\"outlinewidth\":0,\"ticks\":\"\"}}],\"contour\":[{\"type\":\"contour\",\"colorbar\":{\"outlinewidth\":0,\"ticks\":\"\"},\"colorscale\":[[0.0,\"#0d0887\"],[0.1111111111111111,\"#46039f\"],[0.2222222222222222,\"#7201a8\"],[0.3333333333333333,\"#9c179e\"],[0.4444444444444444,\"#bd3786\"],[0.5555555555555556,\"#d8576b\"],[0.6666666666666666,\"#ed7953\"],[0.7777777777777778,\"#fb9f3a\"],[0.8888888888888888,\"#fdca26\"],[1.0,\"#f0f921\"]]}],\"surface\":[{\"type\":\"surface\",\"colorbar\":{\"outlinewidth\":0,\"ticks\":\"\"},\"colorscale\":[[0.0,\"#0d0887\"],[0.1111111111111111,\"#46039f\"],[0.2222222222222222,\"#7201a8\"],[0.3333333333333333,\"#9c179e\"],[0.4444444444444444,\"#bd3786\"],[0.5555555555555556,\"#d8576b\"],[0.6666666666666666,\"#ed7953\"],[0.7777777777777778,\"#fb9f3a\"],[0.8888888888888888,\"#fdca26\"],[1.0,\"#f0f921\"]]}],\"mesh3d\":[{\"type\":\"mesh3d\",\"colorbar\":{\"outlinewidth\":0,\"ticks\":\"\"}}],\"scatter\":[{\"fillpattern\":{\"fillmode\":\"overlay\",\"size\":10,\"solidity\":0.2},\"type\":\"scatter\"}],\"parcoords\":[{\"type\":\"parcoords\",\"line\":{\"colorbar\":{\"outlinewidth\":0,\"ticks\":\"\"}}}],\"scatterpolargl\":[{\"type\":\"scatterpolargl\",\"marker\":{\"colorbar\":{\"outlinewidth\":0,\"ticks\":\"\"}}}],\"bar\":[{\"error_x\":{\"color\":\"#2a3f5f\"},\"error_y\":{\"color\":\"#2a3f5f\"},\"marker\":{\"line\":{\"color\":\"#E5ECF6\",\"width\":0.5},\"pattern\":{\"fillmode\":\"overlay\",\"size\":10,\"solidity\":0.2}},\"type\":\"bar\"}],\"scattergeo\":[{\"type\":\"scattergeo\",\"marker\":{\"colorbar\":{\"outlinewidth\":0,\"ticks\":\"\"}}}],\"scatterpolar\":[{\"type\":\"scatterpolar\",\"marker\":{\"colorbar\":{\"outlinewidth\":0,\"ticks\":\"\"}}}],\"histogram\":[{\"marker\":{\"pattern\":{\"fillmode\":\"overlay\",\"size\":10,\"solidity\":0.2}},\"type\":\"histogram\"}],\"scattergl\":[{\"type\":\"scattergl\",\"marker\":{\"colorbar\":{\"outlinewidth\":0,\"ticks\":\"\"}}}],\"scatter3d\":[{\"type\":\"scatter3d\",\"line\":{\"colorbar\":{\"outlinewidth\":0,\"ticks\":\"\"}},\"marker\":{\"colorbar\":{\"outlinewidth\":0,\"ticks\":\"\"}}}],\"scattermapbox\":[{\"type\":\"scattermapbox\",\"marker\":{\"colorbar\":{\"outlinewidth\":0,\"ticks\":\"\"}}}],\"scatterternary\":[{\"type\":\"scatterternary\",\"marker\":{\"colorbar\":{\"outlinewidth\":0,\"ticks\":\"\"}}}],\"scattercarpet\":[{\"type\":\"scattercarpet\",\"marker\":{\"colorbar\":{\"outlinewidth\":0,\"ticks\":\"\"}}}],\"carpet\":[{\"aaxis\":{\"endlinecolor\":\"#2a3f5f\",\"gridcolor\":\"white\",\"linecolor\":\"white\",\"minorgridcolor\":\"white\",\"startlinecolor\":\"#2a3f5f\"},\"baxis\":{\"endlinecolor\":\"#2a3f5f\",\"gridcolor\":\"white\",\"linecolor\":\"white\",\"minorgridcolor\":\"white\",\"startlinecolor\":\"#2a3f5f\"},\"type\":\"carpet\"}],\"table\":[{\"cells\":{\"fill\":{\"color\":\"#EBF0F8\"},\"line\":{\"color\":\"white\"}},\"header\":{\"fill\":{\"color\":\"#C8D4E3\"},\"line\":{\"color\":\"white\"}},\"type\":\"table\"}],\"barpolar\":[{\"marker\":{\"line\":{\"color\":\"#E5ECF6\",\"width\":0.5},\"pattern\":{\"fillmode\":\"overlay\",\"size\":10,\"solidity\":0.2}},\"type\":\"barpolar\"}],\"pie\":[{\"automargin\":true,\"type\":\"pie\"}]},\"layout\":{\"autotypenumbers\":\"strict\",\"colorway\":[\"#636efa\",\"#EF553B\",\"#00cc96\",\"#ab63fa\",\"#FFA15A\",\"#19d3f3\",\"#FF6692\",\"#B6E880\",\"#FF97FF\",\"#FECB52\"],\"font\":{\"color\":\"#2a3f5f\"},\"hovermode\":\"closest\",\"hoverlabel\":{\"align\":\"left\"},\"paper_bgcolor\":\"white\",\"plot_bgcolor\":\"#E5ECF6\",\"polar\":{\"bgcolor\":\"#E5ECF6\",\"angularaxis\":{\"gridcolor\":\"white\",\"linecolor\":\"white\",\"ticks\":\"\"},\"radialaxis\":{\"gridcolor\":\"white\",\"linecolor\":\"white\",\"ticks\":\"\"}},\"ternary\":{\"bgcolor\":\"#E5ECF6\",\"aaxis\":{\"gridcolor\":\"white\",\"linecolor\":\"white\",\"ticks\":\"\"},\"baxis\":{\"gridcolor\":\"white\",\"linecolor\":\"white\",\"ticks\":\"\"},\"caxis\":{\"gridcolor\":\"white\",\"linecolor\":\"white\",\"ticks\":\"\"}},\"coloraxis\":{\"colorbar\":{\"outlinewidth\":0,\"ticks\":\"\"}},\"colorscale\":{\"sequential\":[[0.0,\"#0d0887\"],[0.1111111111111111,\"#46039f\"],[0.2222222222222222,\"#7201a8\"],[0.3333333333333333,\"#9c179e\"],[0.4444444444444444,\"#bd3786\"],[0.5555555555555556,\"#d8576b\"],[0.6666666666666666,\"#ed7953\"],[0.7777777777777778,\"#fb9f3a\"],[0.8888888888888888,\"#fdca26\"],[1.0,\"#f0f921\"]],\"sequentialminus\":[[0.0,\"#0d0887\"],[0.1111111111111111,\"#46039f\"],[0.2222222222222222,\"#7201a8\"],[0.3333333333333333,\"#9c179e\"],[0.4444444444444444,\"#bd3786\"],[0.5555555555555556,\"#d8576b\"],[0.6666666666666666,\"#ed7953\"],[0.7777777777777778,\"#fb9f3a\"],[0.8888888888888888,\"#fdca26\"],[1.0,\"#f0f921\"]],\"diverging\":[[0,\"#8e0152\"],[0.1,\"#c51b7d\"],[0.2,\"#de77ae\"],[0.3,\"#f1b6da\"],[0.4,\"#fde0ef\"],[0.5,\"#f7f7f7\"],[0.6,\"#e6f5d0\"],[0.7,\"#b8e186\"],[0.8,\"#7fbc41\"],[0.9,\"#4d9221\"],[1,\"#276419\"]]},\"xaxis\":{\"gridcolor\":\"white\",\"linecolor\":\"white\",\"ticks\":\"\",\"title\":{\"standoff\":15},\"zerolinecolor\":\"white\",\"automargin\":true,\"zerolinewidth\":2},\"yaxis\":{\"gridcolor\":\"white\",\"linecolor\":\"white\",\"ticks\":\"\",\"title\":{\"standoff\":15},\"zerolinecolor\":\"white\",\"automargin\":true,\"zerolinewidth\":2},\"scene\":{\"xaxis\":{\"backgroundcolor\":\"#E5ECF6\",\"gridcolor\":\"white\",\"linecolor\":\"white\",\"showbackground\":true,\"ticks\":\"\",\"zerolinecolor\":\"white\",\"gridwidth\":2},\"yaxis\":{\"backgroundcolor\":\"#E5ECF6\",\"gridcolor\":\"white\",\"linecolor\":\"white\",\"showbackground\":true,\"ticks\":\"\",\"zerolinecolor\":\"white\",\"gridwidth\":2},\"zaxis\":{\"backgroundcolor\":\"#E5ECF6\",\"gridcolor\":\"white\",\"linecolor\":\"white\",\"showbackground\":true,\"ticks\":\"\",\"zerolinecolor\":\"white\",\"gridwidth\":2}},\"shapedefaults\":{\"line\":{\"color\":\"#2a3f5f\"}},\"annotationdefaults\":{\"arrowcolor\":\"#2a3f5f\",\"arrowhead\":0,\"arrowwidth\":1},\"geo\":{\"bgcolor\":\"white\",\"landcolor\":\"#E5ECF6\",\"subunitcolor\":\"white\",\"showland\":true,\"showlakes\":true,\"lakecolor\":\"white\"},\"title\":{\"x\":0.05},\"mapbox\":{\"style\":\"light\"}}},\"legend\":{\"tracegroupgap\":0},\"title\":{\"text\":\"Code Percentages\"},\"piecolorway\":[\"#562666\",\"#612969\",\"#6c2b6d\",\"#772d6f\",\"#833070\",\"#8f3371\",\"#9a3670\",\"#a5396e\",\"#b13c6c\",\"#bc3f69\",\"#c84365\",\"#d14a61\",\"#d9525e\",\"#de5d5c\",\"#e3685c\",\"#e67560\",\"#e88165\",\"#e98d6b\",\"#eb9972\",\"#eca479\"],\"height\":500,\"width\":800,\"font\":{\"family\":\"Courier New, monospace\",\"size\":14},\"plot_bgcolor\":\"rgba(0, 0, 0, 0)\",\"paper_bgcolor\":\"rgba(0, 0, 0, 0)\"},                        {\"responsive\": true}                    ).then(function(){\n",
       "                            \n",
       "var gd = document.getElementById('0c4781af-5326-4b73-9e2c-e4f699212729');\n",
       "var x = new MutationObserver(function (mutations, observer) {{\n",
       "        var display = window.getComputedStyle(gd).display;\n",
       "        if (!display || display === 'none') {{\n",
       "            console.log([gd, 'removed!']);\n",
       "            Plotly.purge(gd);\n",
       "            observer.disconnect();\n",
       "        }}\n",
       "}});\n",
       "\n",
       "// Listen for the removal of the full notebook cells\n",
       "var notebookContainer = gd.closest('#notebook-container');\n",
       "if (notebookContainer) {{\n",
       "    x.observe(notebookContainer, {childList: true});\n",
       "}}\n",
       "\n",
       "// Listen for the clearing of the current output cell\n",
       "var outputEl = gd.closest('.output');\n",
       "if (outputEl) {{\n",
       "    x.observe(outputEl, {childList: true});\n",
       "}}\n",
       "\n",
       "                        })                };                });            </script>        </div>"
      ]
     },
     "metadata": {},
     "output_type": "display_data"
    }
   ],
   "source": [
    "fig = px.pie(\n",
    "    data_frame=codes_statistics_df,\n",
    "    names=\"Code\",\n",
    "    values=\"count\",\n",
    "    color_discrete_sequence=palette,\n",
    "    title=\"Code Percentages\",\n",
    "    width=800,\n",
    "    height=500,\n",
    ")\n",
    "\n",
    "fig.update_layout(\n",
    "    {\n",
    "        \"plot_bgcolor\": \"rgba(0, 0, 0, 0)\",\n",
    "        \"paper_bgcolor\": \"rgba(0, 0, 0, 0)\",\n",
    "        \"font\": {\n",
    "            \"family\": \"Courier New, monospace\",\n",
    "            \"size\": 14\n",
    "        },\n",
    "    }\n",
    ")\n",
    "\n",
    "fig.show()"
   ]
  },
  {
   "cell_type": "markdown",
   "id": "8af37459",
   "metadata": {},
   "source": [
    "### Occupation vs. Code\n",
    "\n",
    "One observation that I made regarding the occupation is that they form a small number of groups, be dubbed *Manager, Developer, Analyst, Blue Collar*. Leveraging this can help improve the model's performance. Here I manually group them and check the statistics for larger groups."
   ]
  },
  {
   "cell_type": "code",
   "execution_count": 36,
   "id": "27b8b7a8",
   "metadata": {},
   "outputs": [],
   "source": [
    "groups_dict = {\n",
    "    '11-1021.00': 'Manager', \n",
    "    '11-2021.00': 'Manager', \n",
    "    '11-2022.00': 'Manager', \n",
    "    '11-3031.02': 'Manager', \n",
    "    '41-2031.00': 'Manager', \n",
    "    '43-4051.00': 'Manager',\n",
    "    \n",
    "    '15-1132.00': 'Developer', \n",
    "    '15-1133.00': 'Developer', \n",
    "    '15-1134.00': 'Developer', \n",
    "    '15-1142.00': 'Developer', \n",
    "    '15-1151.00': 'Developer',\n",
    "    \n",
    "    '13-1111.00': 'Analyst', \n",
    "    '13-2051.00': 'Analyst', \n",
    "    '15-1121.00': 'Analyst', \n",
    "    '15-1122.00': 'Analyst', \n",
    "    '33-3021.06': 'Analyst',\n",
    "    \n",
    "    '29-1141.00': 'Blue Collar', \n",
    "    '31-1014.00': 'Blue Collar', \n",
    "    '49-3023.02': 'Blue Collar', \n",
    "    '49-9071.00': 'Blue Collar', \n",
    "    '53-3032.00': 'Blue Collar'\n",
    "}"
   ]
  },
  {
   "cell_type": "code",
   "execution_count": 38,
   "id": "ec8fd042",
   "metadata": {},
   "outputs": [
    {
     "data": {
      "text/html": [
       "<div>\n",
       "<style scoped>\n",
       "    .dataframe tbody tr th:only-of-type {\n",
       "        vertical-align: middle;\n",
       "    }\n",
       "\n",
       "    .dataframe tbody tr th {\n",
       "        vertical-align: top;\n",
       "    }\n",
       "\n",
       "    .dataframe thead th {\n",
       "        text-align: right;\n",
       "    }\n",
       "</style>\n",
       "<table border=\"1\" class=\"dataframe\">\n",
       "  <thead>\n",
       "    <tr style=\"text-align: right;\">\n",
       "      <th></th>\n",
       "      <th>Occupation</th>\n",
       "      <th>Code</th>\n",
       "      <th>Group</th>\n",
       "    </tr>\n",
       "  </thead>\n",
       "  <tbody>\n",
       "    <tr>\n",
       "      <th>0</th>\n",
       "      <td>General and Operations Managers</td>\n",
       "      <td>11-1021.00</td>\n",
       "      <td>Manager</td>\n",
       "    </tr>\n",
       "    <tr>\n",
       "      <th>1</th>\n",
       "      <td>Marketing Managers</td>\n",
       "      <td>11-2021.00</td>\n",
       "      <td>Manager</td>\n",
       "    </tr>\n",
       "    <tr>\n",
       "      <th>2</th>\n",
       "      <td>Sales Managers</td>\n",
       "      <td>11-2022.00</td>\n",
       "      <td>Manager</td>\n",
       "    </tr>\n",
       "    <tr>\n",
       "      <th>3</th>\n",
       "      <td>Financial Managers, Branch or Department</td>\n",
       "      <td>11-3031.02</td>\n",
       "      <td>Manager</td>\n",
       "    </tr>\n",
       "    <tr>\n",
       "      <th>4</th>\n",
       "      <td>Management Analysts</td>\n",
       "      <td>13-1111.00</td>\n",
       "      <td>Analyst</td>\n",
       "    </tr>\n",
       "    <tr>\n",
       "      <th>5</th>\n",
       "      <td>Financial Analysts</td>\n",
       "      <td>13-2051.00</td>\n",
       "      <td>Analyst</td>\n",
       "    </tr>\n",
       "    <tr>\n",
       "      <th>6</th>\n",
       "      <td>Computer Systems Analysts</td>\n",
       "      <td>15-1121.00</td>\n",
       "      <td>Analyst</td>\n",
       "    </tr>\n",
       "    <tr>\n",
       "      <th>7</th>\n",
       "      <td>Information Security Analysts</td>\n",
       "      <td>15-1122.00</td>\n",
       "      <td>Analyst</td>\n",
       "    </tr>\n",
       "    <tr>\n",
       "      <th>8</th>\n",
       "      <td>Software Developers, Applications</td>\n",
       "      <td>15-1132.00</td>\n",
       "      <td>Developer</td>\n",
       "    </tr>\n",
       "    <tr>\n",
       "      <th>9</th>\n",
       "      <td>Software Developers, Systems Software</td>\n",
       "      <td>15-1133.00</td>\n",
       "      <td>Developer</td>\n",
       "    </tr>\n",
       "    <tr>\n",
       "      <th>10</th>\n",
       "      <td>Web Developers</td>\n",
       "      <td>15-1134.00</td>\n",
       "      <td>Developer</td>\n",
       "    </tr>\n",
       "    <tr>\n",
       "      <th>11</th>\n",
       "      <td>Network and Computer Systems Administrators</td>\n",
       "      <td>15-1142.00</td>\n",
       "      <td>Developer</td>\n",
       "    </tr>\n",
       "    <tr>\n",
       "      <th>12</th>\n",
       "      <td>Computer User Support Specialists</td>\n",
       "      <td>15-1151.00</td>\n",
       "      <td>Developer</td>\n",
       "    </tr>\n",
       "    <tr>\n",
       "      <th>13</th>\n",
       "      <td>Registered Nurses</td>\n",
       "      <td>29-1141.00</td>\n",
       "      <td>Blue Collar</td>\n",
       "    </tr>\n",
       "    <tr>\n",
       "      <th>14</th>\n",
       "      <td>Nursing Assistants</td>\n",
       "      <td>31-1014.00</td>\n",
       "      <td>Blue Collar</td>\n",
       "    </tr>\n",
       "    <tr>\n",
       "      <th>15</th>\n",
       "      <td>Intelligence Analysts</td>\n",
       "      <td>33-3021.06</td>\n",
       "      <td>Analyst</td>\n",
       "    </tr>\n",
       "    <tr>\n",
       "      <th>16</th>\n",
       "      <td>Retail Salespersons</td>\n",
       "      <td>41-2031.00</td>\n",
       "      <td>Manager</td>\n",
       "    </tr>\n",
       "    <tr>\n",
       "      <th>17</th>\n",
       "      <td>Customer Service Representatives</td>\n",
       "      <td>43-4051.00</td>\n",
       "      <td>Manager</td>\n",
       "    </tr>\n",
       "    <tr>\n",
       "      <th>18</th>\n",
       "      <td>Automotive Specialty Technicians</td>\n",
       "      <td>49-3023.02</td>\n",
       "      <td>Blue Collar</td>\n",
       "    </tr>\n",
       "    <tr>\n",
       "      <th>19</th>\n",
       "      <td>Maintenance and Repair Workers, General</td>\n",
       "      <td>49-9071.00</td>\n",
       "      <td>Blue Collar</td>\n",
       "    </tr>\n",
       "    <tr>\n",
       "      <th>20</th>\n",
       "      <td>Heavy and Tractor-Trailer Truck Drivers</td>\n",
       "      <td>53-3032.00</td>\n",
       "      <td>Blue Collar</td>\n",
       "    </tr>\n",
       "  </tbody>\n",
       "</table>\n",
       "</div>"
      ],
      "text/plain": [
       "                                     Occupation        Code        Group\n",
       "0               General and Operations Managers  11-1021.00      Manager\n",
       "1                            Marketing Managers  11-2021.00      Manager\n",
       "2                                Sales Managers  11-2022.00      Manager\n",
       "3      Financial Managers, Branch or Department  11-3031.02      Manager\n",
       "4                           Management Analysts  13-1111.00      Analyst\n",
       "5                            Financial Analysts  13-2051.00      Analyst\n",
       "6                     Computer Systems Analysts  15-1121.00      Analyst\n",
       "7                 Information Security Analysts  15-1122.00      Analyst\n",
       "8             Software Developers, Applications  15-1132.00    Developer\n",
       "9         Software Developers, Systems Software  15-1133.00    Developer\n",
       "10                               Web Developers  15-1134.00    Developer\n",
       "11  Network and Computer Systems Administrators  15-1142.00    Developer\n",
       "12            Computer User Support Specialists  15-1151.00    Developer\n",
       "13                            Registered Nurses  29-1141.00  Blue Collar\n",
       "14                           Nursing Assistants  31-1014.00  Blue Collar\n",
       "15                        Intelligence Analysts  33-3021.06      Analyst\n",
       "16                          Retail Salespersons  41-2031.00      Manager\n",
       "17             Customer Service Representatives  43-4051.00      Manager\n",
       "18             Automotive Specialty Technicians  49-3023.02  Blue Collar\n",
       "19      Maintenance and Repair Workers, General  49-9071.00  Blue Collar\n",
       "20      Heavy and Tractor-Trailer Truck Drivers  53-3032.00  Blue Collar"
      ]
     },
     "execution_count": 38,
     "metadata": {},
     "output_type": "execute_result"
    }
   ],
   "source": [
    "df_occup = pd.read_csv('../data/occup_df.csv')\n",
    "df_occup['Group'] = df_occup['Code'].map(groups_dict)\n",
    "df_occup"
   ]
  },
  {
   "cell_type": "code",
   "execution_count": 69,
   "id": "2d7accfc",
   "metadata": {},
   "outputs": [],
   "source": [
    "occup_dict = df_occup.set_index('Code')['Occupation'].to_dict()\n",
    "\n",
    "df_train['Occupation'] = df_train['Code'].map(occup_dict)\n",
    "df_train['Group'] = df_train['Code'].map(groups_dict)"
   ]
  },
  {
   "cell_type": "markdown",
   "id": "41611478",
   "metadata": {},
   "source": [
    "Here are some texts from each group."
   ]
  },
  {
   "cell_type": "code",
   "execution_count": 70,
   "id": "651e8fa0",
   "metadata": {},
   "outputs": [
    {
     "data": {
      "text/html": [
       "<div>\n",
       "<style scoped>\n",
       "    .dataframe tbody tr th:only-of-type {\n",
       "        vertical-align: middle;\n",
       "    }\n",
       "\n",
       "    .dataframe tbody tr th {\n",
       "        vertical-align: top;\n",
       "    }\n",
       "\n",
       "    .dataframe thead th {\n",
       "        text-align: right;\n",
       "    }\n",
       "</style>\n",
       "<table border=\"1\" class=\"dataframe\">\n",
       "  <thead>\n",
       "    <tr style=\"text-align: right;\">\n",
       "      <th></th>\n",
       "      <th>Title</th>\n",
       "      <th>Code</th>\n",
       "      <th>Group</th>\n",
       "      <th>Occupation</th>\n",
       "    </tr>\n",
       "  </thead>\n",
       "  <tbody>\n",
       "    <tr>\n",
       "      <th>0</th>\n",
       "      <td>senior program analyst navy strike fighter sen...</td>\n",
       "      <td>15-1121.00</td>\n",
       "      <td>Analyst</td>\n",
       "      <td>Computer Systems Analysts</td>\n",
       "    </tr>\n",
       "    <tr>\n",
       "      <th>1</th>\n",
       "      <td>senior intelligence analyst iii job</td>\n",
       "      <td>33-3021.06</td>\n",
       "      <td>Analyst</td>\n",
       "      <td>Intelligence Analysts</td>\n",
       "    </tr>\n",
       "    <tr>\n",
       "      <th>3</th>\n",
       "      <td>test automation engineer w selenium and gerkin...</td>\n",
       "      <td>15-1121.00</td>\n",
       "      <td>Analyst</td>\n",
       "      <td>Computer Systems Analysts</td>\n",
       "    </tr>\n",
       "    <tr>\n",
       "      <th>9</th>\n",
       "      <td>public sector public financial management pfm ...</td>\n",
       "      <td>13-1111.00</td>\n",
       "      <td>Analyst</td>\n",
       "      <td>Management Analysts</td>\n",
       "    </tr>\n",
       "    <tr>\n",
       "      <th>11</th>\n",
       "      <td>principal associate allowance for loan losses ...</td>\n",
       "      <td>13-2051.00</td>\n",
       "      <td>Analyst</td>\n",
       "      <td>Financial Analysts</td>\n",
       "    </tr>\n",
       "    <tr>\n",
       "      <th>12</th>\n",
       "      <td>security officer on call operations</td>\n",
       "      <td>15-1121.00</td>\n",
       "      <td>Analyst</td>\n",
       "      <td>Computer Systems Analysts</td>\n",
       "    </tr>\n",
       "    <tr>\n",
       "      <th>13</th>\n",
       "      <td>analyst finance</td>\n",
       "      <td>13-2051.00</td>\n",
       "      <td>Analyst</td>\n",
       "      <td>Financial Analysts</td>\n",
       "    </tr>\n",
       "    <tr>\n",
       "      <th>15</th>\n",
       "      <td>systems engineer info assurance</td>\n",
       "      <td>15-1122.00</td>\n",
       "      <td>Analyst</td>\n",
       "      <td>Information Security Analysts</td>\n",
       "    </tr>\n",
       "    <tr>\n",
       "      <th>16</th>\n",
       "      <td>production analyst</td>\n",
       "      <td>33-3021.06</td>\n",
       "      <td>Analyst</td>\n",
       "      <td>Intelligence Analysts</td>\n",
       "    </tr>\n",
       "    <tr>\n",
       "      <th>17</th>\n",
       "      <td>research librarian</td>\n",
       "      <td>15-1122.00</td>\n",
       "      <td>Analyst</td>\n",
       "      <td>Information Security Analysts</td>\n",
       "    </tr>\n",
       "    <tr>\n",
       "      <th>20</th>\n",
       "      <td>public sector hr associate</td>\n",
       "      <td>13-1111.00</td>\n",
       "      <td>Analyst</td>\n",
       "      <td>Management Analysts</td>\n",
       "    </tr>\n",
       "    <tr>\n",
       "      <th>29</th>\n",
       "      <td>healthcare business data analyst</td>\n",
       "      <td>13-1111.00</td>\n",
       "      <td>Analyst</td>\n",
       "      <td>Management Analysts</td>\n",
       "    </tr>\n",
       "    <tr>\n",
       "      <th>30</th>\n",
       "      <td>intermediate biographic identity analyst</td>\n",
       "      <td>33-3021.06</td>\n",
       "      <td>Analyst</td>\n",
       "      <td>Intelligence Analysts</td>\n",
       "    </tr>\n",
       "    <tr>\n",
       "      <th>31</th>\n",
       "      <td>sr management analyst</td>\n",
       "      <td>33-3021.06</td>\n",
       "      <td>Analyst</td>\n",
       "      <td>Intelligence Analysts</td>\n",
       "    </tr>\n",
       "    <tr>\n",
       "      <th>33</th>\n",
       "      <td>sr analyst cloud strategy product commercializ...</td>\n",
       "      <td>13-2051.00</td>\n",
       "      <td>Analyst</td>\n",
       "      <td>Financial Analysts</td>\n",
       "    </tr>\n",
       "    <tr>\n",
       "      <th>35</th>\n",
       "      <td>sr data analysis manager usa</td>\n",
       "      <td>13-1111.00</td>\n",
       "      <td>Analyst</td>\n",
       "      <td>Management Analysts</td>\n",
       "    </tr>\n",
       "    <tr>\n",
       "      <th>39</th>\n",
       "      <td>information security engineer fed</td>\n",
       "      <td>15-1122.00</td>\n",
       "      <td>Analyst</td>\n",
       "      <td>Information Security Analysts</td>\n",
       "    </tr>\n",
       "    <tr>\n",
       "      <th>40</th>\n",
       "      <td>manager strategy operations strategy</td>\n",
       "      <td>13-1111.00</td>\n",
       "      <td>Analyst</td>\n",
       "      <td>Management Analysts</td>\n",
       "    </tr>\n",
       "    <tr>\n",
       "      <th>45</th>\n",
       "      <td>principal information security analyst ts sci</td>\n",
       "      <td>15-1122.00</td>\n",
       "      <td>Analyst</td>\n",
       "      <td>Information Security Analysts</td>\n",
       "    </tr>\n",
       "    <tr>\n",
       "      <th>55</th>\n",
       "      <td>security account manager dca</td>\n",
       "      <td>15-1122.00</td>\n",
       "      <td>Analyst</td>\n",
       "      <td>Information Security Analysts</td>\n",
       "    </tr>\n",
       "    <tr>\n",
       "      <th>56</th>\n",
       "      <td>information assurance analyst</td>\n",
       "      <td>15-1122.00</td>\n",
       "      <td>Analyst</td>\n",
       "      <td>Information Security Analysts</td>\n",
       "    </tr>\n",
       "    <tr>\n",
       "      <th>59</th>\n",
       "      <td>ediscovery network infrastructure specialist</td>\n",
       "      <td>15-1122.00</td>\n",
       "      <td>Analyst</td>\n",
       "      <td>Information Security Analysts</td>\n",
       "    </tr>\n",
       "    <tr>\n",
       "      <th>64</th>\n",
       "      <td>data analyst watchlist analyst</td>\n",
       "      <td>33-3021.06</td>\n",
       "      <td>Analyst</td>\n",
       "      <td>Intelligence Analysts</td>\n",
       "    </tr>\n",
       "    <tr>\n",
       "      <th>67</th>\n",
       "      <td>financial analyst budgeting analysis</td>\n",
       "      <td>13-2051.00</td>\n",
       "      <td>Analyst</td>\n",
       "      <td>Financial Analysts</td>\n",
       "    </tr>\n",
       "    <tr>\n",
       "      <th>70</th>\n",
       "      <td>business operations senior manager</td>\n",
       "      <td>15-1122.00</td>\n",
       "      <td>Analyst</td>\n",
       "      <td>Information Security Analysts</td>\n",
       "    </tr>\n",
       "    <tr>\n",
       "      <th>72</th>\n",
       "      <td>sr it business systems analyst</td>\n",
       "      <td>15-1121.00</td>\n",
       "      <td>Analyst</td>\n",
       "      <td>Computer Systems Analysts</td>\n",
       "    </tr>\n",
       "    <tr>\n",
       "      <th>73</th>\n",
       "      <td>utilization management representative i ii iii</td>\n",
       "      <td>13-1111.00</td>\n",
       "      <td>Analyst</td>\n",
       "      <td>Management Analysts</td>\n",
       "    </tr>\n",
       "    <tr>\n",
       "      <th>77</th>\n",
       "      <td>intel analyst iii</td>\n",
       "      <td>15-1122.00</td>\n",
       "      <td>Analyst</td>\n",
       "      <td>Information Security Analysts</td>\n",
       "    </tr>\n",
       "    <tr>\n",
       "      <th>79</th>\n",
       "      <td>defense systems acquisition specialist mid</td>\n",
       "      <td>13-1111.00</td>\n",
       "      <td>Analyst</td>\n",
       "      <td>Management Analysts</td>\n",
       "    </tr>\n",
       "    <tr>\n",
       "      <th>80</th>\n",
       "      <td>imagery remote sensing scientist mid</td>\n",
       "      <td>33-3021.06</td>\n",
       "      <td>Analyst</td>\n",
       "      <td>Intelligence Analysts</td>\n",
       "    </tr>\n",
       "  </tbody>\n",
       "</table>\n",
       "</div>"
      ],
      "text/plain": [
       "                                                Title        Code    Group  \\\n",
       "0   senior program analyst navy strike fighter sen...  15-1121.00  Analyst   \n",
       "1                 senior intelligence analyst iii job  33-3021.06  Analyst   \n",
       "3   test automation engineer w selenium and gerkin...  15-1121.00  Analyst   \n",
       "9   public sector public financial management pfm ...  13-1111.00  Analyst   \n",
       "11  principal associate allowance for loan losses ...  13-2051.00  Analyst   \n",
       "12                security officer on call operations  15-1121.00  Analyst   \n",
       "13                                    analyst finance  13-2051.00  Analyst   \n",
       "15                    systems engineer info assurance  15-1122.00  Analyst   \n",
       "16                                 production analyst  33-3021.06  Analyst   \n",
       "17                                 research librarian  15-1122.00  Analyst   \n",
       "20                         public sector hr associate  13-1111.00  Analyst   \n",
       "29                   healthcare business data analyst  13-1111.00  Analyst   \n",
       "30           intermediate biographic identity analyst  33-3021.06  Analyst   \n",
       "31                              sr management analyst  33-3021.06  Analyst   \n",
       "33  sr analyst cloud strategy product commercializ...  13-2051.00  Analyst   \n",
       "35                       sr data analysis manager usa  13-1111.00  Analyst   \n",
       "39                  information security engineer fed  15-1122.00  Analyst   \n",
       "40               manager strategy operations strategy  13-1111.00  Analyst   \n",
       "45      principal information security analyst ts sci  15-1122.00  Analyst   \n",
       "55                       security account manager dca  15-1122.00  Analyst   \n",
       "56                      information assurance analyst  15-1122.00  Analyst   \n",
       "59       ediscovery network infrastructure specialist  15-1122.00  Analyst   \n",
       "64                     data analyst watchlist analyst  33-3021.06  Analyst   \n",
       "67               financial analyst budgeting analysis  13-2051.00  Analyst   \n",
       "70                 business operations senior manager  15-1122.00  Analyst   \n",
       "72                     sr it business systems analyst  15-1121.00  Analyst   \n",
       "73     utilization management representative i ii iii  13-1111.00  Analyst   \n",
       "77                                  intel analyst iii  15-1122.00  Analyst   \n",
       "79         defense systems acquisition specialist mid  13-1111.00  Analyst   \n",
       "80               imagery remote sensing scientist mid  33-3021.06  Analyst   \n",
       "\n",
       "                       Occupation  \n",
       "0       Computer Systems Analysts  \n",
       "1           Intelligence Analysts  \n",
       "3       Computer Systems Analysts  \n",
       "9             Management Analysts  \n",
       "11             Financial Analysts  \n",
       "12      Computer Systems Analysts  \n",
       "13             Financial Analysts  \n",
       "15  Information Security Analysts  \n",
       "16          Intelligence Analysts  \n",
       "17  Information Security Analysts  \n",
       "20            Management Analysts  \n",
       "29            Management Analysts  \n",
       "30          Intelligence Analysts  \n",
       "31          Intelligence Analysts  \n",
       "33             Financial Analysts  \n",
       "35            Management Analysts  \n",
       "39  Information Security Analysts  \n",
       "40            Management Analysts  \n",
       "45  Information Security Analysts  \n",
       "55  Information Security Analysts  \n",
       "56  Information Security Analysts  \n",
       "59  Information Security Analysts  \n",
       "64          Intelligence Analysts  \n",
       "67             Financial Analysts  \n",
       "70  Information Security Analysts  \n",
       "72      Computer Systems Analysts  \n",
       "73            Management Analysts  \n",
       "77  Information Security Analysts  \n",
       "79            Management Analysts  \n",
       "80          Intelligence Analysts  "
      ]
     },
     "execution_count": 70,
     "metadata": {},
     "output_type": "execute_result"
    }
   ],
   "source": [
    "df_train[df_train['Group'] == 'Analyst'].head(30)"
   ]
  },
  {
   "cell_type": "markdown",
   "id": "0e70e464",
   "metadata": {},
   "source": [
    "Observe that the gold labels are still rather dirty or ambiguous. E.g., 'test automation engineer' is classified as a 'Computer Systems Analyst', which does not seem right."
   ]
  },
  {
   "cell_type": "code",
   "execution_count": 68,
   "id": "c11033db",
   "metadata": {},
   "outputs": [
    {
     "data": {
      "text/html": [
       "<div>\n",
       "<style scoped>\n",
       "    .dataframe tbody tr th:only-of-type {\n",
       "        vertical-align: middle;\n",
       "    }\n",
       "\n",
       "    .dataframe tbody tr th {\n",
       "        vertical-align: top;\n",
       "    }\n",
       "\n",
       "    .dataframe thead th {\n",
       "        text-align: right;\n",
       "    }\n",
       "</style>\n",
       "<table border=\"1\" class=\"dataframe\">\n",
       "  <thead>\n",
       "    <tr style=\"text-align: right;\">\n",
       "      <th></th>\n",
       "      <th>Title</th>\n",
       "      <th>Code</th>\n",
       "      <th>Group</th>\n",
       "      <th>Occupation</th>\n",
       "    </tr>\n",
       "  </thead>\n",
       "  <tbody>\n",
       "    <tr>\n",
       "      <th>21</th>\n",
       "      <td>imaging tech aide</td>\n",
       "      <td>29-1141.00</td>\n",
       "      <td>Blue Collar</td>\n",
       "      <td>Registered Nurses</td>\n",
       "    </tr>\n",
       "    <tr>\n",
       "      <th>25</th>\n",
       "      <td>rn bonus hiring event july schedule your inter...</td>\n",
       "      <td>29-1141.00</td>\n",
       "      <td>Blue Collar</td>\n",
       "      <td>Registered Nurses</td>\n",
       "    </tr>\n",
       "    <tr>\n",
       "      <th>32</th>\n",
       "      <td>general technician</td>\n",
       "      <td>49-9071.00</td>\n",
       "      <td>Blue Collar</td>\n",
       "      <td>Maintenance and Repair Workers, General</td>\n",
       "    </tr>\n",
       "    <tr>\n",
       "      <th>36</th>\n",
       "      <td>food service technician</td>\n",
       "      <td>31-1014.00</td>\n",
       "      <td>Blue Collar</td>\n",
       "      <td>Nursing Assistants</td>\n",
       "    </tr>\n",
       "    <tr>\n",
       "      <th>51</th>\n",
       "      <td>psychiatric nurse rn</td>\n",
       "      <td>29-1141.00</td>\n",
       "      <td>Blue Collar</td>\n",
       "      <td>Registered Nurses</td>\n",
       "    </tr>\n",
       "    <tr>\n",
       "      <th>53</th>\n",
       "      <td>lpn outpatient inova urgent care full</td>\n",
       "      <td>29-1141.00</td>\n",
       "      <td>Blue Collar</td>\n",
       "      <td>Registered Nurses</td>\n",
       "    </tr>\n",
       "    <tr>\n",
       "      <th>60</th>\n",
       "      <td>engineer ft</td>\n",
       "      <td>49-9071.00</td>\n",
       "      <td>Blue Collar</td>\n",
       "      <td>Maintenance and Repair Workers, General</td>\n",
       "    </tr>\n",
       "    <tr>\n",
       "      <th>66</th>\n",
       "      <td>lpn health</td>\n",
       "      <td>29-1141.00</td>\n",
       "      <td>Blue Collar</td>\n",
       "      <td>Registered Nurses</td>\n",
       "    </tr>\n",
       "    <tr>\n",
       "      <th>68</th>\n",
       "      <td>maintenance technician lawyers</td>\n",
       "      <td>49-9071.00</td>\n",
       "      <td>Blue Collar</td>\n",
       "      <td>Maintenance and Repair Workers, General</td>\n",
       "    </tr>\n",
       "    <tr>\n",
       "      <th>71</th>\n",
       "      <td>dining nutrition support assoc nrv med ctr</td>\n",
       "      <td>29-1141.00</td>\n",
       "      <td>Blue Collar</td>\n",
       "      <td>Registered Nurses</td>\n",
       "    </tr>\n",
       "    <tr>\n",
       "      <th>74</th>\n",
       "      <td>registered nurse oncology team</td>\n",
       "      <td>29-1141.00</td>\n",
       "      <td>Blue Collar</td>\n",
       "      <td>Registered Nurses</td>\n",
       "    </tr>\n",
       "    <tr>\n",
       "      <th>86</th>\n",
       "      <td>registered nurse imcu hospital</td>\n",
       "      <td>29-1141.00</td>\n",
       "      <td>Blue Collar</td>\n",
       "      <td>Registered Nurses</td>\n",
       "    </tr>\n",
       "    <tr>\n",
       "      <th>100</th>\n",
       "      <td>chha certified health aide full health</td>\n",
       "      <td>29-1141.00</td>\n",
       "      <td>Blue Collar</td>\n",
       "      <td>Registered Nurses</td>\n",
       "    </tr>\n",
       "    <tr>\n",
       "      <th>111</th>\n",
       "      <td>india nurse volunteers us volunteer</td>\n",
       "      <td>29-1141.00</td>\n",
       "      <td>Blue Collar</td>\n",
       "      <td>Registered Nurses</td>\n",
       "    </tr>\n",
       "    <tr>\n",
       "      <th>113</th>\n",
       "      <td>floor care</td>\n",
       "      <td>29-1141.00</td>\n",
       "      <td>Blue Collar</td>\n",
       "      <td>Registered Nurses</td>\n",
       "    </tr>\n",
       "    <tr>\n",
       "      <th>115</th>\n",
       "      <td>rn contract job</td>\n",
       "      <td>29-1141.00</td>\n",
       "      <td>Blue Collar</td>\n",
       "      <td>Registered Nurses</td>\n",
       "    </tr>\n",
       "    <tr>\n",
       "      <th>121</th>\n",
       "      <td>contract registered polsomnographer reg sleep ...</td>\n",
       "      <td>31-1014.00</td>\n",
       "      <td>Blue Collar</td>\n",
       "      <td>Nursing Assistants</td>\n",
       "    </tr>\n",
       "    <tr>\n",
       "      <th>130</th>\n",
       "      <td>health aide flexi days news</td>\n",
       "      <td>29-1141.00</td>\n",
       "      <td>Blue Collar</td>\n",
       "      <td>Registered Nurses</td>\n",
       "    </tr>\n",
       "    <tr>\n",
       "      <th>139</th>\n",
       "      <td>registered nurse cvsd</td>\n",
       "      <td>29-1141.00</td>\n",
       "      <td>Blue Collar</td>\n",
       "      <td>Registered Nurses</td>\n",
       "    </tr>\n",
       "    <tr>\n",
       "      <th>151</th>\n",
       "      <td>group leader acid area</td>\n",
       "      <td>49-9071.00</td>\n",
       "      <td>Blue Collar</td>\n",
       "      <td>Maintenance and Repair Workers, General</td>\n",
       "    </tr>\n",
       "    <tr>\n",
       "      <th>152</th>\n",
       "      <td>customer service technician hourly positions c...</td>\n",
       "      <td>53-3032.00</td>\n",
       "      <td>Blue Collar</td>\n",
       "      <td>Heavy and Tractor-Trailer Truck Drivers</td>\n",
       "    </tr>\n",
       "    <tr>\n",
       "      <th>153</th>\n",
       "      <td>hss maintenance mechanic at inova medical</td>\n",
       "      <td>49-9071.00</td>\n",
       "      <td>Blue Collar</td>\n",
       "      <td>Maintenance and Repair Workers, General</td>\n",
       "    </tr>\n",
       "    <tr>\n",
       "      <th>156</th>\n",
       "      <td>customer service technician wage csc</td>\n",
       "      <td>53-3032.00</td>\n",
       "      <td>Blue Collar</td>\n",
       "      <td>Heavy and Tractor-Trailer Truck Drivers</td>\n",
       "    </tr>\n",
       "    <tr>\n",
       "      <th>172</th>\n",
       "      <td>administrative support assistant behavioral he...</td>\n",
       "      <td>49-9071.00</td>\n",
       "      <td>Blue Collar</td>\n",
       "      <td>Maintenance and Repair Workers, General</td>\n",
       "    </tr>\n",
       "    <tr>\n",
       "      <th>174</th>\n",
       "      <td>rn trauma critical care ccu nights</td>\n",
       "      <td>29-1141.00</td>\n",
       "      <td>Blue Collar</td>\n",
       "      <td>Registered Nurses</td>\n",
       "    </tr>\n",
       "    <tr>\n",
       "      <th>176</th>\n",
       "      <td>staff registered nurse hemodialysis rn multipl...</td>\n",
       "      <td>29-1141.00</td>\n",
       "      <td>Blue Collar</td>\n",
       "      <td>Registered Nurses</td>\n",
       "    </tr>\n",
       "    <tr>\n",
       "      <th>177</th>\n",
       "      <td>physical therapy assistant</td>\n",
       "      <td>29-1141.00</td>\n",
       "      <td>Blue Collar</td>\n",
       "      <td>Registered Nurses</td>\n",
       "    </tr>\n",
       "    <tr>\n",
       "      <th>182</th>\n",
       "      <td>clinical rn on call urgent care</td>\n",
       "      <td>29-1141.00</td>\n",
       "      <td>Blue Collar</td>\n",
       "      <td>Registered Nurses</td>\n",
       "    </tr>\n",
       "    <tr>\n",
       "      <th>188</th>\n",
       "      <td>director of academic affairs cdaa</td>\n",
       "      <td>31-1014.00</td>\n",
       "      <td>Blue Collar</td>\n",
       "      <td>Nursing Assistants</td>\n",
       "    </tr>\n",
       "    <tr>\n",
       "      <th>191</th>\n",
       "      <td>registered nurse rn oncology days</td>\n",
       "      <td>29-1141.00</td>\n",
       "      <td>Blue Collar</td>\n",
       "      <td>Registered Nurses</td>\n",
       "    </tr>\n",
       "  </tbody>\n",
       "</table>\n",
       "</div>"
      ],
      "text/plain": [
       "                                                 Title        Code  \\\n",
       "21                                   imaging tech aide  29-1141.00   \n",
       "25   rn bonus hiring event july schedule your inter...  29-1141.00   \n",
       "32                                  general technician  49-9071.00   \n",
       "36                             food service technician  31-1014.00   \n",
       "51                                psychiatric nurse rn  29-1141.00   \n",
       "53               lpn outpatient inova urgent care full  29-1141.00   \n",
       "60                                         engineer ft  49-9071.00   \n",
       "66                                          lpn health  29-1141.00   \n",
       "68                      maintenance technician lawyers  49-9071.00   \n",
       "71          dining nutrition support assoc nrv med ctr  29-1141.00   \n",
       "74                      registered nurse oncology team  29-1141.00   \n",
       "86                      registered nurse imcu hospital  29-1141.00   \n",
       "100             chha certified health aide full health  29-1141.00   \n",
       "111                india nurse volunteers us volunteer  29-1141.00   \n",
       "113                                         floor care  29-1141.00   \n",
       "115                                    rn contract job  29-1141.00   \n",
       "121  contract registered polsomnographer reg sleep ...  31-1014.00   \n",
       "130                        health aide flexi days news  29-1141.00   \n",
       "139                              registered nurse cvsd  29-1141.00   \n",
       "151                             group leader acid area  49-9071.00   \n",
       "152  customer service technician hourly positions c...  53-3032.00   \n",
       "153          hss maintenance mechanic at inova medical  49-9071.00   \n",
       "156               customer service technician wage csc  53-3032.00   \n",
       "172  administrative support assistant behavioral he...  49-9071.00   \n",
       "174                 rn trauma critical care ccu nights  29-1141.00   \n",
       "176  staff registered nurse hemodialysis rn multipl...  29-1141.00   \n",
       "177                         physical therapy assistant  29-1141.00   \n",
       "182                    clinical rn on call urgent care  29-1141.00   \n",
       "188                  director of academic affairs cdaa  31-1014.00   \n",
       "191                  registered nurse rn oncology days  29-1141.00   \n",
       "\n",
       "           Group                               Occupation  \n",
       "21   Blue Collar                        Registered Nurses  \n",
       "25   Blue Collar                        Registered Nurses  \n",
       "32   Blue Collar  Maintenance and Repair Workers, General  \n",
       "36   Blue Collar                       Nursing Assistants  \n",
       "51   Blue Collar                        Registered Nurses  \n",
       "53   Blue Collar                        Registered Nurses  \n",
       "60   Blue Collar  Maintenance and Repair Workers, General  \n",
       "66   Blue Collar                        Registered Nurses  \n",
       "68   Blue Collar  Maintenance and Repair Workers, General  \n",
       "71   Blue Collar                        Registered Nurses  \n",
       "74   Blue Collar                        Registered Nurses  \n",
       "86   Blue Collar                        Registered Nurses  \n",
       "100  Blue Collar                        Registered Nurses  \n",
       "111  Blue Collar                        Registered Nurses  \n",
       "113  Blue Collar                        Registered Nurses  \n",
       "115  Blue Collar                        Registered Nurses  \n",
       "121  Blue Collar                       Nursing Assistants  \n",
       "130  Blue Collar                        Registered Nurses  \n",
       "139  Blue Collar                        Registered Nurses  \n",
       "151  Blue Collar  Maintenance and Repair Workers, General  \n",
       "152  Blue Collar  Heavy and Tractor-Trailer Truck Drivers  \n",
       "153  Blue Collar  Maintenance and Repair Workers, General  \n",
       "156  Blue Collar  Heavy and Tractor-Trailer Truck Drivers  \n",
       "172  Blue Collar  Maintenance and Repair Workers, General  \n",
       "174  Blue Collar                        Registered Nurses  \n",
       "176  Blue Collar                        Registered Nurses  \n",
       "177  Blue Collar                        Registered Nurses  \n",
       "182  Blue Collar                        Registered Nurses  \n",
       "188  Blue Collar                       Nursing Assistants  \n",
       "191  Blue Collar                        Registered Nurses  "
      ]
     },
     "execution_count": 68,
     "metadata": {},
     "output_type": "execute_result"
    }
   ],
   "source": [
    "df_train[df_train['Group'] == 'Blue Collar'].head(30)"
   ]
  },
  {
   "cell_type": "markdown",
   "id": "cd16ffa2",
   "metadata": {},
   "source": [
    "### Class imbalance for occupation groups"
   ]
  },
  {
   "cell_type": "code",
   "execution_count": 51,
   "id": "2ff39363",
   "metadata": {},
   "outputs": [
    {
     "data": {
      "text/html": [
       "<div>\n",
       "<style scoped>\n",
       "    .dataframe tbody tr th:only-of-type {\n",
       "        vertical-align: middle;\n",
       "    }\n",
       "\n",
       "    .dataframe tbody tr th {\n",
       "        vertical-align: top;\n",
       "    }\n",
       "\n",
       "    .dataframe thead th {\n",
       "        text-align: right;\n",
       "    }\n",
       "</style>\n",
       "<table border=\"1\" class=\"dataframe\">\n",
       "  <thead>\n",
       "    <tr style=\"text-align: right;\">\n",
       "      <th></th>\n",
       "      <th>Group</th>\n",
       "      <th>count</th>\n",
       "      <th>mean_length</th>\n",
       "      <th>max_length</th>\n",
       "      <th>min_length</th>\n",
       "    </tr>\n",
       "  </thead>\n",
       "  <tbody>\n",
       "    <tr>\n",
       "      <th>2</th>\n",
       "      <td>Developer</td>\n",
       "      <td>3698</td>\n",
       "      <td>33.232829</td>\n",
       "      <td>209</td>\n",
       "      <td>6</td>\n",
       "    </tr>\n",
       "    <tr>\n",
       "      <th>3</th>\n",
       "      <td>Manager</td>\n",
       "      <td>3081</td>\n",
       "      <td>33.911392</td>\n",
       "      <td>119</td>\n",
       "      <td>4</td>\n",
       "    </tr>\n",
       "    <tr>\n",
       "      <th>0</th>\n",
       "      <td>Analyst</td>\n",
       "      <td>3056</td>\n",
       "      <td>34.365838</td>\n",
       "      <td>109</td>\n",
       "      <td>6</td>\n",
       "    </tr>\n",
       "    <tr>\n",
       "      <th>1</th>\n",
       "      <td>Blue Collar</td>\n",
       "      <td>2263</td>\n",
       "      <td>33.229783</td>\n",
       "      <td>174</td>\n",
       "      <td>4</td>\n",
       "    </tr>\n",
       "  </tbody>\n",
       "</table>\n",
       "</div>"
      ],
      "text/plain": [
       "         Group  count  mean_length  max_length  min_length\n",
       "2    Developer   3698    33.232829         209           6\n",
       "3      Manager   3081    33.911392         119           4\n",
       "0      Analyst   3056    34.365838         109           6\n",
       "1  Blue Collar   2263    33.229783         174           4"
      ]
     },
     "execution_count": 51,
     "metadata": {},
     "output_type": "execute_result"
    }
   ],
   "source": [
    "groups_statistics_df = (\n",
    "    df_train.groupby(by=\"Group\")[\"Title\"]\n",
    "    .agg(\n",
    "        [\n",
    "            (\"count\", lambda x: x.size),\n",
    "            (\"mean_length\", lambda x: x.str.len().mean()),\n",
    "            (\"max_length\", lambda x: x.str.len().max()),\n",
    "            (\"min_length\", lambda x: x.str.len().min()),\n",
    "        ]\n",
    "    )\n",
    "    .reset_index()\n",
    "    .sort_values(by=\"count\", ascending=False)\n",
    ")\n",
    "groups_statistics_df"
   ]
  },
  {
   "cell_type": "code",
   "execution_count": 62,
   "id": "ec3f4a97",
   "metadata": {},
   "outputs": [
    {
     "data": {
      "application/vnd.plotly.v1+json": {
       "config": {
        "plotlyServerURL": "https://plot.ly"
       },
       "data": [
        {
         "domain": {
          "x": [
           0,
           1
          ],
          "y": [
           0,
           1
          ]
         },
         "hovertemplate": "Group=%{label}<br>count=%{value}<extra></extra>",
         "labels": [
          "Developer",
          "Manager",
          "Analyst",
          "Blue Collar"
         ],
         "legendgroup": "",
         "name": "",
         "showlegend": true,
         "type": "pie",
         "values": [
          3698,
          3081,
          3056,
          2263
         ]
        }
       ],
       "layout": {
        "font": {
         "family": "Courier New, monospace",
         "size": 14
        },
        "height": 500,
        "legend": {
         "tracegroupgap": 0
        },
        "paper_bgcolor": "rgba(0, 0, 0, 0)",
        "piecolorway": [
         "#562666",
         "#612969",
         "#6c2b6d",
         "#772d6f",
         "#833070",
         "#8f3371",
         "#9a3670",
         "#a5396e",
         "#b13c6c",
         "#bc3f69",
         "#c84365",
         "#d14a61",
         "#d9525e",
         "#de5d5c",
         "#e3685c",
         "#e67560",
         "#e88165",
         "#e98d6b",
         "#eb9972",
         "#eca479"
        ],
        "plot_bgcolor": "rgba(0, 0, 0, 0)",
        "template": {
         "data": {
          "bar": [
           {
            "error_x": {
             "color": "#2a3f5f"
            },
            "error_y": {
             "color": "#2a3f5f"
            },
            "marker": {
             "line": {
              "color": "#E5ECF6",
              "width": 0.5
             },
             "pattern": {
              "fillmode": "overlay",
              "size": 10,
              "solidity": 0.2
             }
            },
            "type": "bar"
           }
          ],
          "barpolar": [
           {
            "marker": {
             "line": {
              "color": "#E5ECF6",
              "width": 0.5
             },
             "pattern": {
              "fillmode": "overlay",
              "size": 10,
              "solidity": 0.2
             }
            },
            "type": "barpolar"
           }
          ],
          "carpet": [
           {
            "aaxis": {
             "endlinecolor": "#2a3f5f",
             "gridcolor": "white",
             "linecolor": "white",
             "minorgridcolor": "white",
             "startlinecolor": "#2a3f5f"
            },
            "baxis": {
             "endlinecolor": "#2a3f5f",
             "gridcolor": "white",
             "linecolor": "white",
             "minorgridcolor": "white",
             "startlinecolor": "#2a3f5f"
            },
            "type": "carpet"
           }
          ],
          "choropleth": [
           {
            "colorbar": {
             "outlinewidth": 0,
             "ticks": ""
            },
            "type": "choropleth"
           }
          ],
          "contour": [
           {
            "colorbar": {
             "outlinewidth": 0,
             "ticks": ""
            },
            "colorscale": [
             [
              0,
              "#0d0887"
             ],
             [
              0.1111111111111111,
              "#46039f"
             ],
             [
              0.2222222222222222,
              "#7201a8"
             ],
             [
              0.3333333333333333,
              "#9c179e"
             ],
             [
              0.4444444444444444,
              "#bd3786"
             ],
             [
              0.5555555555555556,
              "#d8576b"
             ],
             [
              0.6666666666666666,
              "#ed7953"
             ],
             [
              0.7777777777777778,
              "#fb9f3a"
             ],
             [
              0.8888888888888888,
              "#fdca26"
             ],
             [
              1,
              "#f0f921"
             ]
            ],
            "type": "contour"
           }
          ],
          "contourcarpet": [
           {
            "colorbar": {
             "outlinewidth": 0,
             "ticks": ""
            },
            "type": "contourcarpet"
           }
          ],
          "heatmap": [
           {
            "colorbar": {
             "outlinewidth": 0,
             "ticks": ""
            },
            "colorscale": [
             [
              0,
              "#0d0887"
             ],
             [
              0.1111111111111111,
              "#46039f"
             ],
             [
              0.2222222222222222,
              "#7201a8"
             ],
             [
              0.3333333333333333,
              "#9c179e"
             ],
             [
              0.4444444444444444,
              "#bd3786"
             ],
             [
              0.5555555555555556,
              "#d8576b"
             ],
             [
              0.6666666666666666,
              "#ed7953"
             ],
             [
              0.7777777777777778,
              "#fb9f3a"
             ],
             [
              0.8888888888888888,
              "#fdca26"
             ],
             [
              1,
              "#f0f921"
             ]
            ],
            "type": "heatmap"
           }
          ],
          "heatmapgl": [
           {
            "colorbar": {
             "outlinewidth": 0,
             "ticks": ""
            },
            "colorscale": [
             [
              0,
              "#0d0887"
             ],
             [
              0.1111111111111111,
              "#46039f"
             ],
             [
              0.2222222222222222,
              "#7201a8"
             ],
             [
              0.3333333333333333,
              "#9c179e"
             ],
             [
              0.4444444444444444,
              "#bd3786"
             ],
             [
              0.5555555555555556,
              "#d8576b"
             ],
             [
              0.6666666666666666,
              "#ed7953"
             ],
             [
              0.7777777777777778,
              "#fb9f3a"
             ],
             [
              0.8888888888888888,
              "#fdca26"
             ],
             [
              1,
              "#f0f921"
             ]
            ],
            "type": "heatmapgl"
           }
          ],
          "histogram": [
           {
            "marker": {
             "pattern": {
              "fillmode": "overlay",
              "size": 10,
              "solidity": 0.2
             }
            },
            "type": "histogram"
           }
          ],
          "histogram2d": [
           {
            "colorbar": {
             "outlinewidth": 0,
             "ticks": ""
            },
            "colorscale": [
             [
              0,
              "#0d0887"
             ],
             [
              0.1111111111111111,
              "#46039f"
             ],
             [
              0.2222222222222222,
              "#7201a8"
             ],
             [
              0.3333333333333333,
              "#9c179e"
             ],
             [
              0.4444444444444444,
              "#bd3786"
             ],
             [
              0.5555555555555556,
              "#d8576b"
             ],
             [
              0.6666666666666666,
              "#ed7953"
             ],
             [
              0.7777777777777778,
              "#fb9f3a"
             ],
             [
              0.8888888888888888,
              "#fdca26"
             ],
             [
              1,
              "#f0f921"
             ]
            ],
            "type": "histogram2d"
           }
          ],
          "histogram2dcontour": [
           {
            "colorbar": {
             "outlinewidth": 0,
             "ticks": ""
            },
            "colorscale": [
             [
              0,
              "#0d0887"
             ],
             [
              0.1111111111111111,
              "#46039f"
             ],
             [
              0.2222222222222222,
              "#7201a8"
             ],
             [
              0.3333333333333333,
              "#9c179e"
             ],
             [
              0.4444444444444444,
              "#bd3786"
             ],
             [
              0.5555555555555556,
              "#d8576b"
             ],
             [
              0.6666666666666666,
              "#ed7953"
             ],
             [
              0.7777777777777778,
              "#fb9f3a"
             ],
             [
              0.8888888888888888,
              "#fdca26"
             ],
             [
              1,
              "#f0f921"
             ]
            ],
            "type": "histogram2dcontour"
           }
          ],
          "mesh3d": [
           {
            "colorbar": {
             "outlinewidth": 0,
             "ticks": ""
            },
            "type": "mesh3d"
           }
          ],
          "parcoords": [
           {
            "line": {
             "colorbar": {
              "outlinewidth": 0,
              "ticks": ""
             }
            },
            "type": "parcoords"
           }
          ],
          "pie": [
           {
            "automargin": true,
            "type": "pie"
           }
          ],
          "scatter": [
           {
            "fillpattern": {
             "fillmode": "overlay",
             "size": 10,
             "solidity": 0.2
            },
            "type": "scatter"
           }
          ],
          "scatter3d": [
           {
            "line": {
             "colorbar": {
              "outlinewidth": 0,
              "ticks": ""
             }
            },
            "marker": {
             "colorbar": {
              "outlinewidth": 0,
              "ticks": ""
             }
            },
            "type": "scatter3d"
           }
          ],
          "scattercarpet": [
           {
            "marker": {
             "colorbar": {
              "outlinewidth": 0,
              "ticks": ""
             }
            },
            "type": "scattercarpet"
           }
          ],
          "scattergeo": [
           {
            "marker": {
             "colorbar": {
              "outlinewidth": 0,
              "ticks": ""
             }
            },
            "type": "scattergeo"
           }
          ],
          "scattergl": [
           {
            "marker": {
             "colorbar": {
              "outlinewidth": 0,
              "ticks": ""
             }
            },
            "type": "scattergl"
           }
          ],
          "scattermapbox": [
           {
            "marker": {
             "colorbar": {
              "outlinewidth": 0,
              "ticks": ""
             }
            },
            "type": "scattermapbox"
           }
          ],
          "scatterpolar": [
           {
            "marker": {
             "colorbar": {
              "outlinewidth": 0,
              "ticks": ""
             }
            },
            "type": "scatterpolar"
           }
          ],
          "scatterpolargl": [
           {
            "marker": {
             "colorbar": {
              "outlinewidth": 0,
              "ticks": ""
             }
            },
            "type": "scatterpolargl"
           }
          ],
          "scatterternary": [
           {
            "marker": {
             "colorbar": {
              "outlinewidth": 0,
              "ticks": ""
             }
            },
            "type": "scatterternary"
           }
          ],
          "surface": [
           {
            "colorbar": {
             "outlinewidth": 0,
             "ticks": ""
            },
            "colorscale": [
             [
              0,
              "#0d0887"
             ],
             [
              0.1111111111111111,
              "#46039f"
             ],
             [
              0.2222222222222222,
              "#7201a8"
             ],
             [
              0.3333333333333333,
              "#9c179e"
             ],
             [
              0.4444444444444444,
              "#bd3786"
             ],
             [
              0.5555555555555556,
              "#d8576b"
             ],
             [
              0.6666666666666666,
              "#ed7953"
             ],
             [
              0.7777777777777778,
              "#fb9f3a"
             ],
             [
              0.8888888888888888,
              "#fdca26"
             ],
             [
              1,
              "#f0f921"
             ]
            ],
            "type": "surface"
           }
          ],
          "table": [
           {
            "cells": {
             "fill": {
              "color": "#EBF0F8"
             },
             "line": {
              "color": "white"
             }
            },
            "header": {
             "fill": {
              "color": "#C8D4E3"
             },
             "line": {
              "color": "white"
             }
            },
            "type": "table"
           }
          ]
         },
         "layout": {
          "annotationdefaults": {
           "arrowcolor": "#2a3f5f",
           "arrowhead": 0,
           "arrowwidth": 1
          },
          "autotypenumbers": "strict",
          "coloraxis": {
           "colorbar": {
            "outlinewidth": 0,
            "ticks": ""
           }
          },
          "colorscale": {
           "diverging": [
            [
             0,
             "#8e0152"
            ],
            [
             0.1,
             "#c51b7d"
            ],
            [
             0.2,
             "#de77ae"
            ],
            [
             0.3,
             "#f1b6da"
            ],
            [
             0.4,
             "#fde0ef"
            ],
            [
             0.5,
             "#f7f7f7"
            ],
            [
             0.6,
             "#e6f5d0"
            ],
            [
             0.7,
             "#b8e186"
            ],
            [
             0.8,
             "#7fbc41"
            ],
            [
             0.9,
             "#4d9221"
            ],
            [
             1,
             "#276419"
            ]
           ],
           "sequential": [
            [
             0,
             "#0d0887"
            ],
            [
             0.1111111111111111,
             "#46039f"
            ],
            [
             0.2222222222222222,
             "#7201a8"
            ],
            [
             0.3333333333333333,
             "#9c179e"
            ],
            [
             0.4444444444444444,
             "#bd3786"
            ],
            [
             0.5555555555555556,
             "#d8576b"
            ],
            [
             0.6666666666666666,
             "#ed7953"
            ],
            [
             0.7777777777777778,
             "#fb9f3a"
            ],
            [
             0.8888888888888888,
             "#fdca26"
            ],
            [
             1,
             "#f0f921"
            ]
           ],
           "sequentialminus": [
            [
             0,
             "#0d0887"
            ],
            [
             0.1111111111111111,
             "#46039f"
            ],
            [
             0.2222222222222222,
             "#7201a8"
            ],
            [
             0.3333333333333333,
             "#9c179e"
            ],
            [
             0.4444444444444444,
             "#bd3786"
            ],
            [
             0.5555555555555556,
             "#d8576b"
            ],
            [
             0.6666666666666666,
             "#ed7953"
            ],
            [
             0.7777777777777778,
             "#fb9f3a"
            ],
            [
             0.8888888888888888,
             "#fdca26"
            ],
            [
             1,
             "#f0f921"
            ]
           ]
          },
          "colorway": [
           "#636efa",
           "#EF553B",
           "#00cc96",
           "#ab63fa",
           "#FFA15A",
           "#19d3f3",
           "#FF6692",
           "#B6E880",
           "#FF97FF",
           "#FECB52"
          ],
          "font": {
           "color": "#2a3f5f"
          },
          "geo": {
           "bgcolor": "white",
           "lakecolor": "white",
           "landcolor": "#E5ECF6",
           "showlakes": true,
           "showland": true,
           "subunitcolor": "white"
          },
          "hoverlabel": {
           "align": "left"
          },
          "hovermode": "closest",
          "mapbox": {
           "style": "light"
          },
          "paper_bgcolor": "white",
          "plot_bgcolor": "#E5ECF6",
          "polar": {
           "angularaxis": {
            "gridcolor": "white",
            "linecolor": "white",
            "ticks": ""
           },
           "bgcolor": "#E5ECF6",
           "radialaxis": {
            "gridcolor": "white",
            "linecolor": "white",
            "ticks": ""
           }
          },
          "scene": {
           "xaxis": {
            "backgroundcolor": "#E5ECF6",
            "gridcolor": "white",
            "gridwidth": 2,
            "linecolor": "white",
            "showbackground": true,
            "ticks": "",
            "zerolinecolor": "white"
           },
           "yaxis": {
            "backgroundcolor": "#E5ECF6",
            "gridcolor": "white",
            "gridwidth": 2,
            "linecolor": "white",
            "showbackground": true,
            "ticks": "",
            "zerolinecolor": "white"
           },
           "zaxis": {
            "backgroundcolor": "#E5ECF6",
            "gridcolor": "white",
            "gridwidth": 2,
            "linecolor": "white",
            "showbackground": true,
            "ticks": "",
            "zerolinecolor": "white"
           }
          },
          "shapedefaults": {
           "line": {
            "color": "#2a3f5f"
           }
          },
          "ternary": {
           "aaxis": {
            "gridcolor": "white",
            "linecolor": "white",
            "ticks": ""
           },
           "baxis": {
            "gridcolor": "white",
            "linecolor": "white",
            "ticks": ""
           },
           "bgcolor": "#E5ECF6",
           "caxis": {
            "gridcolor": "white",
            "linecolor": "white",
            "ticks": ""
           }
          },
          "title": {
           "x": 0.05
          },
          "xaxis": {
           "automargin": true,
           "gridcolor": "white",
           "linecolor": "white",
           "ticks": "",
           "title": {
            "standoff": 15
           },
           "zerolinecolor": "white",
           "zerolinewidth": 2
          },
          "yaxis": {
           "automargin": true,
           "gridcolor": "white",
           "linecolor": "white",
           "ticks": "",
           "title": {
            "standoff": 15
           },
           "zerolinecolor": "white",
           "zerolinewidth": 2
          }
         }
        },
        "title": {
         "text": "Group Percentages"
        },
        "width": 800
       }
      },
      "text/html": [
       "<div>                            <div id=\"c2a68bf6-7af6-45a9-889f-fba9dda73f7e\" class=\"plotly-graph-div\" style=\"height:500px; width:800px;\"></div>            <script type=\"text/javascript\">                require([\"plotly\"], function(Plotly) {                    window.PLOTLYENV=window.PLOTLYENV || {};                                    if (document.getElementById(\"c2a68bf6-7af6-45a9-889f-fba9dda73f7e\")) {                    Plotly.newPlot(                        \"c2a68bf6-7af6-45a9-889f-fba9dda73f7e\",                        [{\"domain\":{\"x\":[0.0,1.0],\"y\":[0.0,1.0]},\"hovertemplate\":\"Group=%{label}<br>count=%{value}<extra></extra>\",\"labels\":[\"Developer\",\"Manager\",\"Analyst\",\"Blue Collar\"],\"legendgroup\":\"\",\"name\":\"\",\"showlegend\":true,\"values\":[3698,3081,3056,2263],\"type\":\"pie\"}],                        {\"template\":{\"data\":{\"histogram2dcontour\":[{\"type\":\"histogram2dcontour\",\"colorbar\":{\"outlinewidth\":0,\"ticks\":\"\"},\"colorscale\":[[0.0,\"#0d0887\"],[0.1111111111111111,\"#46039f\"],[0.2222222222222222,\"#7201a8\"],[0.3333333333333333,\"#9c179e\"],[0.4444444444444444,\"#bd3786\"],[0.5555555555555556,\"#d8576b\"],[0.6666666666666666,\"#ed7953\"],[0.7777777777777778,\"#fb9f3a\"],[0.8888888888888888,\"#fdca26\"],[1.0,\"#f0f921\"]]}],\"choropleth\":[{\"type\":\"choropleth\",\"colorbar\":{\"outlinewidth\":0,\"ticks\":\"\"}}],\"histogram2d\":[{\"type\":\"histogram2d\",\"colorbar\":{\"outlinewidth\":0,\"ticks\":\"\"},\"colorscale\":[[0.0,\"#0d0887\"],[0.1111111111111111,\"#46039f\"],[0.2222222222222222,\"#7201a8\"],[0.3333333333333333,\"#9c179e\"],[0.4444444444444444,\"#bd3786\"],[0.5555555555555556,\"#d8576b\"],[0.6666666666666666,\"#ed7953\"],[0.7777777777777778,\"#fb9f3a\"],[0.8888888888888888,\"#fdca26\"],[1.0,\"#f0f921\"]]}],\"heatmap\":[{\"type\":\"heatmap\",\"colorbar\":{\"outlinewidth\":0,\"ticks\":\"\"},\"colorscale\":[[0.0,\"#0d0887\"],[0.1111111111111111,\"#46039f\"],[0.2222222222222222,\"#7201a8\"],[0.3333333333333333,\"#9c179e\"],[0.4444444444444444,\"#bd3786\"],[0.5555555555555556,\"#d8576b\"],[0.6666666666666666,\"#ed7953\"],[0.7777777777777778,\"#fb9f3a\"],[0.8888888888888888,\"#fdca26\"],[1.0,\"#f0f921\"]]}],\"heatmapgl\":[{\"type\":\"heatmapgl\",\"colorbar\":{\"outlinewidth\":0,\"ticks\":\"\"},\"colorscale\":[[0.0,\"#0d0887\"],[0.1111111111111111,\"#46039f\"],[0.2222222222222222,\"#7201a8\"],[0.3333333333333333,\"#9c179e\"],[0.4444444444444444,\"#bd3786\"],[0.5555555555555556,\"#d8576b\"],[0.6666666666666666,\"#ed7953\"],[0.7777777777777778,\"#fb9f3a\"],[0.8888888888888888,\"#fdca26\"],[1.0,\"#f0f921\"]]}],\"contourcarpet\":[{\"type\":\"contourcarpet\",\"colorbar\":{\"outlinewidth\":0,\"ticks\":\"\"}}],\"contour\":[{\"type\":\"contour\",\"colorbar\":{\"outlinewidth\":0,\"ticks\":\"\"},\"colorscale\":[[0.0,\"#0d0887\"],[0.1111111111111111,\"#46039f\"],[0.2222222222222222,\"#7201a8\"],[0.3333333333333333,\"#9c179e\"],[0.4444444444444444,\"#bd3786\"],[0.5555555555555556,\"#d8576b\"],[0.6666666666666666,\"#ed7953\"],[0.7777777777777778,\"#fb9f3a\"],[0.8888888888888888,\"#fdca26\"],[1.0,\"#f0f921\"]]}],\"surface\":[{\"type\":\"surface\",\"colorbar\":{\"outlinewidth\":0,\"ticks\":\"\"},\"colorscale\":[[0.0,\"#0d0887\"],[0.1111111111111111,\"#46039f\"],[0.2222222222222222,\"#7201a8\"],[0.3333333333333333,\"#9c179e\"],[0.4444444444444444,\"#bd3786\"],[0.5555555555555556,\"#d8576b\"],[0.6666666666666666,\"#ed7953\"],[0.7777777777777778,\"#fb9f3a\"],[0.8888888888888888,\"#fdca26\"],[1.0,\"#f0f921\"]]}],\"mesh3d\":[{\"type\":\"mesh3d\",\"colorbar\":{\"outlinewidth\":0,\"ticks\":\"\"}}],\"scatter\":[{\"fillpattern\":{\"fillmode\":\"overlay\",\"size\":10,\"solidity\":0.2},\"type\":\"scatter\"}],\"parcoords\":[{\"type\":\"parcoords\",\"line\":{\"colorbar\":{\"outlinewidth\":0,\"ticks\":\"\"}}}],\"scatterpolargl\":[{\"type\":\"scatterpolargl\",\"marker\":{\"colorbar\":{\"outlinewidth\":0,\"ticks\":\"\"}}}],\"bar\":[{\"error_x\":{\"color\":\"#2a3f5f\"},\"error_y\":{\"color\":\"#2a3f5f\"},\"marker\":{\"line\":{\"color\":\"#E5ECF6\",\"width\":0.5},\"pattern\":{\"fillmode\":\"overlay\",\"size\":10,\"solidity\":0.2}},\"type\":\"bar\"}],\"scattergeo\":[{\"type\":\"scattergeo\",\"marker\":{\"colorbar\":{\"outlinewidth\":0,\"ticks\":\"\"}}}],\"scatterpolar\":[{\"type\":\"scatterpolar\",\"marker\":{\"colorbar\":{\"outlinewidth\":0,\"ticks\":\"\"}}}],\"histogram\":[{\"marker\":{\"pattern\":{\"fillmode\":\"overlay\",\"size\":10,\"solidity\":0.2}},\"type\":\"histogram\"}],\"scattergl\":[{\"type\":\"scattergl\",\"marker\":{\"colorbar\":{\"outlinewidth\":0,\"ticks\":\"\"}}}],\"scatter3d\":[{\"type\":\"scatter3d\",\"line\":{\"colorbar\":{\"outlinewidth\":0,\"ticks\":\"\"}},\"marker\":{\"colorbar\":{\"outlinewidth\":0,\"ticks\":\"\"}}}],\"scattermapbox\":[{\"type\":\"scattermapbox\",\"marker\":{\"colorbar\":{\"outlinewidth\":0,\"ticks\":\"\"}}}],\"scatterternary\":[{\"type\":\"scatterternary\",\"marker\":{\"colorbar\":{\"outlinewidth\":0,\"ticks\":\"\"}}}],\"scattercarpet\":[{\"type\":\"scattercarpet\",\"marker\":{\"colorbar\":{\"outlinewidth\":0,\"ticks\":\"\"}}}],\"carpet\":[{\"aaxis\":{\"endlinecolor\":\"#2a3f5f\",\"gridcolor\":\"white\",\"linecolor\":\"white\",\"minorgridcolor\":\"white\",\"startlinecolor\":\"#2a3f5f\"},\"baxis\":{\"endlinecolor\":\"#2a3f5f\",\"gridcolor\":\"white\",\"linecolor\":\"white\",\"minorgridcolor\":\"white\",\"startlinecolor\":\"#2a3f5f\"},\"type\":\"carpet\"}],\"table\":[{\"cells\":{\"fill\":{\"color\":\"#EBF0F8\"},\"line\":{\"color\":\"white\"}},\"header\":{\"fill\":{\"color\":\"#C8D4E3\"},\"line\":{\"color\":\"white\"}},\"type\":\"table\"}],\"barpolar\":[{\"marker\":{\"line\":{\"color\":\"#E5ECF6\",\"width\":0.5},\"pattern\":{\"fillmode\":\"overlay\",\"size\":10,\"solidity\":0.2}},\"type\":\"barpolar\"}],\"pie\":[{\"automargin\":true,\"type\":\"pie\"}]},\"layout\":{\"autotypenumbers\":\"strict\",\"colorway\":[\"#636efa\",\"#EF553B\",\"#00cc96\",\"#ab63fa\",\"#FFA15A\",\"#19d3f3\",\"#FF6692\",\"#B6E880\",\"#FF97FF\",\"#FECB52\"],\"font\":{\"color\":\"#2a3f5f\"},\"hovermode\":\"closest\",\"hoverlabel\":{\"align\":\"left\"},\"paper_bgcolor\":\"white\",\"plot_bgcolor\":\"#E5ECF6\",\"polar\":{\"bgcolor\":\"#E5ECF6\",\"angularaxis\":{\"gridcolor\":\"white\",\"linecolor\":\"white\",\"ticks\":\"\"},\"radialaxis\":{\"gridcolor\":\"white\",\"linecolor\":\"white\",\"ticks\":\"\"}},\"ternary\":{\"bgcolor\":\"#E5ECF6\",\"aaxis\":{\"gridcolor\":\"white\",\"linecolor\":\"white\",\"ticks\":\"\"},\"baxis\":{\"gridcolor\":\"white\",\"linecolor\":\"white\",\"ticks\":\"\"},\"caxis\":{\"gridcolor\":\"white\",\"linecolor\":\"white\",\"ticks\":\"\"}},\"coloraxis\":{\"colorbar\":{\"outlinewidth\":0,\"ticks\":\"\"}},\"colorscale\":{\"sequential\":[[0.0,\"#0d0887\"],[0.1111111111111111,\"#46039f\"],[0.2222222222222222,\"#7201a8\"],[0.3333333333333333,\"#9c179e\"],[0.4444444444444444,\"#bd3786\"],[0.5555555555555556,\"#d8576b\"],[0.6666666666666666,\"#ed7953\"],[0.7777777777777778,\"#fb9f3a\"],[0.8888888888888888,\"#fdca26\"],[1.0,\"#f0f921\"]],\"sequentialminus\":[[0.0,\"#0d0887\"],[0.1111111111111111,\"#46039f\"],[0.2222222222222222,\"#7201a8\"],[0.3333333333333333,\"#9c179e\"],[0.4444444444444444,\"#bd3786\"],[0.5555555555555556,\"#d8576b\"],[0.6666666666666666,\"#ed7953\"],[0.7777777777777778,\"#fb9f3a\"],[0.8888888888888888,\"#fdca26\"],[1.0,\"#f0f921\"]],\"diverging\":[[0,\"#8e0152\"],[0.1,\"#c51b7d\"],[0.2,\"#de77ae\"],[0.3,\"#f1b6da\"],[0.4,\"#fde0ef\"],[0.5,\"#f7f7f7\"],[0.6,\"#e6f5d0\"],[0.7,\"#b8e186\"],[0.8,\"#7fbc41\"],[0.9,\"#4d9221\"],[1,\"#276419\"]]},\"xaxis\":{\"gridcolor\":\"white\",\"linecolor\":\"white\",\"ticks\":\"\",\"title\":{\"standoff\":15},\"zerolinecolor\":\"white\",\"automargin\":true,\"zerolinewidth\":2},\"yaxis\":{\"gridcolor\":\"white\",\"linecolor\":\"white\",\"ticks\":\"\",\"title\":{\"standoff\":15},\"zerolinecolor\":\"white\",\"automargin\":true,\"zerolinewidth\":2},\"scene\":{\"xaxis\":{\"backgroundcolor\":\"#E5ECF6\",\"gridcolor\":\"white\",\"linecolor\":\"white\",\"showbackground\":true,\"ticks\":\"\",\"zerolinecolor\":\"white\",\"gridwidth\":2},\"yaxis\":{\"backgroundcolor\":\"#E5ECF6\",\"gridcolor\":\"white\",\"linecolor\":\"white\",\"showbackground\":true,\"ticks\":\"\",\"zerolinecolor\":\"white\",\"gridwidth\":2},\"zaxis\":{\"backgroundcolor\":\"#E5ECF6\",\"gridcolor\":\"white\",\"linecolor\":\"white\",\"showbackground\":true,\"ticks\":\"\",\"zerolinecolor\":\"white\",\"gridwidth\":2}},\"shapedefaults\":{\"line\":{\"color\":\"#2a3f5f\"}},\"annotationdefaults\":{\"arrowcolor\":\"#2a3f5f\",\"arrowhead\":0,\"arrowwidth\":1},\"geo\":{\"bgcolor\":\"white\",\"landcolor\":\"#E5ECF6\",\"subunitcolor\":\"white\",\"showland\":true,\"showlakes\":true,\"lakecolor\":\"white\"},\"title\":{\"x\":0.05},\"mapbox\":{\"style\":\"light\"}}},\"legend\":{\"tracegroupgap\":0},\"title\":{\"text\":\"Group Percentages\"},\"piecolorway\":[\"#562666\",\"#612969\",\"#6c2b6d\",\"#772d6f\",\"#833070\",\"#8f3371\",\"#9a3670\",\"#a5396e\",\"#b13c6c\",\"#bc3f69\",\"#c84365\",\"#d14a61\",\"#d9525e\",\"#de5d5c\",\"#e3685c\",\"#e67560\",\"#e88165\",\"#e98d6b\",\"#eb9972\",\"#eca479\"],\"height\":500,\"width\":800,\"font\":{\"family\":\"Courier New, monospace\",\"size\":14},\"plot_bgcolor\":\"rgba(0, 0, 0, 0)\",\"paper_bgcolor\":\"rgba(0, 0, 0, 0)\"},                        {\"responsive\": true}                    ).then(function(){\n",
       "                            \n",
       "var gd = document.getElementById('c2a68bf6-7af6-45a9-889f-fba9dda73f7e');\n",
       "var x = new MutationObserver(function (mutations, observer) {{\n",
       "        var display = window.getComputedStyle(gd).display;\n",
       "        if (!display || display === 'none') {{\n",
       "            console.log([gd, 'removed!']);\n",
       "            Plotly.purge(gd);\n",
       "            observer.disconnect();\n",
       "        }}\n",
       "}});\n",
       "\n",
       "// Listen for the removal of the full notebook cells\n",
       "var notebookContainer = gd.closest('#notebook-container');\n",
       "if (notebookContainer) {{\n",
       "    x.observe(notebookContainer, {childList: true});\n",
       "}}\n",
       "\n",
       "// Listen for the clearing of the current output cell\n",
       "var outputEl = gd.closest('.output');\n",
       "if (outputEl) {{\n",
       "    x.observe(outputEl, {childList: true});\n",
       "}}\n",
       "\n",
       "                        })                };                });            </script>        </div>"
      ]
     },
     "metadata": {},
     "output_type": "display_data"
    }
   ],
   "source": [
    "fig = px.pie(\n",
    "    data_frame=groups_statistics_df,\n",
    "    names=\"Group\",\n",
    "    values=\"count\",\n",
    "    color_discrete_sequence=palette,\n",
    "    title=\"Group Percentages\",\n",
    "    width=800,\n",
    "    height=500,\n",
    ")\n",
    "\n",
    "fig.update_layout(\n",
    "    {\n",
    "        \"plot_bgcolor\": \"rgba(0, 0, 0, 0)\",\n",
    "        \"paper_bgcolor\": \"rgba(0, 0, 0, 0)\",\n",
    "        \"font\": {\n",
    "            \"family\": \"Courier New, monospace\",\n",
    "            \"size\": 14,\n",
    "            # 'color': \"#eaeaea\"\n",
    "        },\n",
    "    }\n",
    ")\n",
    "\n",
    "fig.show()"
   ]
  },
  {
   "cell_type": "markdown",
   "id": "d888cf65",
   "metadata": {},
   "source": [
    "Ah! Much better. I start thinking of training a separate classifier for occupation groups and then ensembling it with the occupation code predictor."
   ]
  },
  {
   "cell_type": "markdown",
   "id": "5f408d13",
   "metadata": {},
   "source": [
    "## Texts\n",
    "\n",
    "I would like to take a closer look at the textual descriptions. These are just some random observations. I did some checks manually, as the dataset is rather small, so no code here.\n",
    "\n",
    "* Texts are sort of normalized (low-cased, tokens are joined with a single whitespace, virtually no stop words, pronouns, etc.)\n",
    "* There is a lot of abbreviations, some of which might be quite important, as in *i*, *ii*, *iv* denoting grades, *sr* for seniority level, *chha* for 'Certified Home Health Aid', regular abbreviations like *hr* and *vp*, some cryptic stuff like *rpsgt*, *fc*, *pt*. A sort of a knowledge base could be quite useful here.\n",
    "* I spotted many variants, such as *flexi* and *flexible*, *sr* and *senior*, *icu* and *nicu* etc. A further preprocessing to normalize them could also be useful.\n",
    "* Typos, e.g. *spcecialist*, *developler*, *exchnage*. A character-level approach could help improve robustness with such cases.\n",
    "* Tokenization failures (*officeteam*) and artifacts (*womens*, *socio cultural*)\n",
    "* Shortenings such as *med surg* alongside *surgery*\n",
    "* Non-English, e.g. *español*, but extremely rare\n",
    "* No named entities such as city names, locations, countries (with a noticeable exception of *us*)\n",
    "* A lot of multi-word expressions (MWE), so MWE detection could help.\n",
    "\n",
    "Conclusion:\n",
    "\n",
    "I need to invest some time in feature engineering, focusing on\n",
    "* character-level features (single-character and two-character abreviations are abundant, typos and tokenization artifacts to be fought)\n",
    "* abbreviations and shortenings resolution, possibly with a hand-made dictionary\n",
    "\n",
    "I could also try to introduce MWE-level features if I have time (not a priority). I will not bother with morphology, syntax, Unicode, NER, word vectors."
   ]
  }
 ],
 "metadata": {
  "kernelspec": {
   "display_name": "Python 3 (ipykernel)",
   "language": "python",
   "name": "python3"
  },
  "language_info": {
   "codemirror_mode": {
    "name": "ipython",
    "version": 3
   },
   "file_extension": ".py",
   "mimetype": "text/x-python",
   "name": "python",
   "nbconvert_exporter": "python",
   "pygments_lexer": "ipython3",
   "version": "3.8.10"
  }
 },
 "nbformat": 4,
 "nbformat_minor": 5
}
